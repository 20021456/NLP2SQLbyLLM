{
  "cells": [
    {
      "cell_type": "markdown",
      "metadata": {
        "id": "view-in-github",
        "colab_type": "text"
      },
      "source": [
        "<a href=\"https://colab.research.google.com/github/20021456/mycode/blob/main/NLP2SQLbyLLM.ipynb\" target=\"_parent\"><img src=\"https://colab.research.google.com/assets/colab-badge.svg\" alt=\"Open In Colab\"/></a>"
      ]
    },
    {
      "cell_type": "markdown",
      "metadata": {
        "id": "X2H9rd_Fd2F9"
      },
      "source": [
        "# Môi trường cài đặt"
      ]
    },
    {
      "cell_type": "code",
      "execution_count": null,
      "metadata": {
        "colab": {
          "base_uri": "https://localhost:8080/"
        },
        "id": "8e3ucN-YPtOz",
        "outputId": "46d45824-89c6-4a3e-9243-eb50608aecec"
      },
      "outputs": [
        {
          "output_type": "stream",
          "name": "stdout",
          "text": [
            "Mounted at /content/drive\n"
          ]
        }
      ],
      "source": [
        "from google.colab import drive\n",
        "drive.mount(\"/content/drive\")"
      ]
    },
    {
      "cell_type": "code",
      "execution_count": null,
      "metadata": {
        "id": "Ka4MFCXhWdv-"
      },
      "outputs": [],
      "source": [
        "import numpy as np\n",
        "import pandas as pd\n",
        "import matplotlib.pyplot as plt"
      ]
    },
    {
      "cell_type": "code",
      "execution_count": null,
      "metadata": {
        "id": "wDjt-ZX6a4e9",
        "colab": {
          "base_uri": "https://localhost:8080/"
        },
        "outputId": "540cae5d-d7f5-4f0a-e428-2c0d80508d2d"
      },
      "outputs": [
        {
          "output_type": "stream",
          "name": "stdout",
          "text": [
            "Collecting langchain-experimental\n",
            "  Downloading langchain_experimental-0.0.59-py3-none-any.whl (199 kB)\n",
            "\u001b[2K     \u001b[90m━━━━━━━━━━━━━━━━━━━━━━━━━━━━━━━━━━━━━━━━\u001b[0m \u001b[32m199.5/199.5 kB\u001b[0m \u001b[31m1.6 MB/s\u001b[0m eta \u001b[36m0:00:00\u001b[0m\n",
            "\u001b[?25hCollecting langchain-community<0.3,>=0.2 (from langchain-experimental)\n",
            "  Downloading langchain_community-0.2.0-py3-none-any.whl (2.1 MB)\n",
            "\u001b[2K     \u001b[90m━━━━━━━━━━━━━━━━━━━━━━━━━━━━━━━━━━━━━━━━\u001b[0m \u001b[32m2.1/2.1 MB\u001b[0m \u001b[31m13.7 MB/s\u001b[0m eta \u001b[36m0:00:00\u001b[0m\n",
            "\u001b[?25hCollecting langchain-core<0.3,>=0.2 (from langchain-experimental)\n",
            "  Downloading langchain_core-0.2.1-py3-none-any.whl (308 kB)\n",
            "\u001b[2K     \u001b[90m━━━━━━━━━━━━━━━━━━━━━━━━━━━━━━━━━━━━━━━━\u001b[0m \u001b[32m308.5/308.5 kB\u001b[0m \u001b[31m26.8 MB/s\u001b[0m eta \u001b[36m0:00:00\u001b[0m\n",
            "\u001b[?25hRequirement already satisfied: PyYAML>=5.3 in /usr/local/lib/python3.10/dist-packages (from langchain-community<0.3,>=0.2->langchain-experimental) (6.0.1)\n",
            "Requirement already satisfied: SQLAlchemy<3,>=1.4 in /usr/local/lib/python3.10/dist-packages (from langchain-community<0.3,>=0.2->langchain-experimental) (2.0.30)\n",
            "Requirement already satisfied: aiohttp<4.0.0,>=3.8.3 in /usr/local/lib/python3.10/dist-packages (from langchain-community<0.3,>=0.2->langchain-experimental) (3.9.5)\n",
            "Collecting dataclasses-json<0.7,>=0.5.7 (from langchain-community<0.3,>=0.2->langchain-experimental)\n",
            "  Downloading dataclasses_json-0.6.6-py3-none-any.whl (28 kB)\n",
            "Collecting langchain<0.3.0,>=0.2.0 (from langchain-community<0.3,>=0.2->langchain-experimental)\n",
            "  Downloading langchain-0.2.0-py3-none-any.whl (973 kB)\n",
            "\u001b[2K     \u001b[90m━━━━━━━━━━━━━━━━━━━━━━━━━━━━━━━━━━━━━━━━\u001b[0m \u001b[32m973.7/973.7 kB\u001b[0m \u001b[31m37.4 MB/s\u001b[0m eta \u001b[36m0:00:00\u001b[0m\n",
            "\u001b[?25hCollecting langsmith<0.2.0,>=0.1.0 (from langchain-community<0.3,>=0.2->langchain-experimental)\n",
            "  Downloading langsmith-0.1.62-py3-none-any.whl (122 kB)\n",
            "\u001b[2K     \u001b[90m━━━━━━━━━━━━━━━━━━━━━━━━━━━━━━━━━━━━━━━━\u001b[0m \u001b[32m122.3/122.3 kB\u001b[0m \u001b[31m11.9 MB/s\u001b[0m eta \u001b[36m0:00:00\u001b[0m\n",
            "\u001b[?25hRequirement already satisfied: numpy<2,>=1 in /usr/local/lib/python3.10/dist-packages (from langchain-community<0.3,>=0.2->langchain-experimental) (1.25.2)\n",
            "Requirement already satisfied: requests<3,>=2 in /usr/local/lib/python3.10/dist-packages (from langchain-community<0.3,>=0.2->langchain-experimental) (2.31.0)\n",
            "Requirement already satisfied: tenacity<9.0.0,>=8.1.0 in /usr/local/lib/python3.10/dist-packages (from langchain-community<0.3,>=0.2->langchain-experimental) (8.3.0)\n",
            "Collecting jsonpatch<2.0,>=1.33 (from langchain-core<0.3,>=0.2->langchain-experimental)\n",
            "  Downloading jsonpatch-1.33-py2.py3-none-any.whl (12 kB)\n",
            "Collecting packaging<24.0,>=23.2 (from langchain-core<0.3,>=0.2->langchain-experimental)\n",
            "  Downloading packaging-23.2-py3-none-any.whl (53 kB)\n",
            "\u001b[2K     \u001b[90m━━━━━━━━━━━━━━━━━━━━━━━━━━━━━━━━━━━━━━━━\u001b[0m \u001b[32m53.0/53.0 kB\u001b[0m \u001b[31m5.3 MB/s\u001b[0m eta \u001b[36m0:00:00\u001b[0m\n",
            "\u001b[?25hRequirement already satisfied: pydantic<3,>=1 in /usr/local/lib/python3.10/dist-packages (from langchain-core<0.3,>=0.2->langchain-experimental) (2.7.1)\n",
            "Requirement already satisfied: aiosignal>=1.1.2 in /usr/local/lib/python3.10/dist-packages (from aiohttp<4.0.0,>=3.8.3->langchain-community<0.3,>=0.2->langchain-experimental) (1.3.1)\n",
            "Requirement already satisfied: attrs>=17.3.0 in /usr/local/lib/python3.10/dist-packages (from aiohttp<4.0.0,>=3.8.3->langchain-community<0.3,>=0.2->langchain-experimental) (23.2.0)\n",
            "Requirement already satisfied: frozenlist>=1.1.1 in /usr/local/lib/python3.10/dist-packages (from aiohttp<4.0.0,>=3.8.3->langchain-community<0.3,>=0.2->langchain-experimental) (1.4.1)\n",
            "Requirement already satisfied: multidict<7.0,>=4.5 in /usr/local/lib/python3.10/dist-packages (from aiohttp<4.0.0,>=3.8.3->langchain-community<0.3,>=0.2->langchain-experimental) (6.0.5)\n",
            "Requirement already satisfied: yarl<2.0,>=1.0 in /usr/local/lib/python3.10/dist-packages (from aiohttp<4.0.0,>=3.8.3->langchain-community<0.3,>=0.2->langchain-experimental) (1.9.4)\n",
            "Requirement already satisfied: async-timeout<5.0,>=4.0 in /usr/local/lib/python3.10/dist-packages (from aiohttp<4.0.0,>=3.8.3->langchain-community<0.3,>=0.2->langchain-experimental) (4.0.3)\n",
            "Collecting marshmallow<4.0.0,>=3.18.0 (from dataclasses-json<0.7,>=0.5.7->langchain-community<0.3,>=0.2->langchain-experimental)\n",
            "  Downloading marshmallow-3.21.2-py3-none-any.whl (49 kB)\n",
            "\u001b[2K     \u001b[90m━━━━━━━━━━━━━━━━━━━━━━━━━━━━━━━━━━━━━━━━\u001b[0m \u001b[32m49.3/49.3 kB\u001b[0m \u001b[31m4.8 MB/s\u001b[0m eta \u001b[36m0:00:00\u001b[0m\n",
            "\u001b[?25hCollecting typing-inspect<1,>=0.4.0 (from dataclasses-json<0.7,>=0.5.7->langchain-community<0.3,>=0.2->langchain-experimental)\n",
            "  Downloading typing_inspect-0.9.0-py3-none-any.whl (8.8 kB)\n",
            "Collecting jsonpointer>=1.9 (from jsonpatch<2.0,>=1.33->langchain-core<0.3,>=0.2->langchain-experimental)\n",
            "  Downloading jsonpointer-2.4-py2.py3-none-any.whl (7.8 kB)\n",
            "Collecting langchain-text-splitters<0.3.0,>=0.2.0 (from langchain<0.3.0,>=0.2.0->langchain-community<0.3,>=0.2->langchain-experimental)\n",
            "  Downloading langchain_text_splitters-0.2.0-py3-none-any.whl (23 kB)\n",
            "Collecting orjson<4.0.0,>=3.9.14 (from langsmith<0.2.0,>=0.1.0->langchain-community<0.3,>=0.2->langchain-experimental)\n",
            "  Downloading orjson-3.10.3-cp310-cp310-manylinux_2_17_x86_64.manylinux2014_x86_64.whl (142 kB)\n",
            "\u001b[2K     \u001b[90m━━━━━━━━━━━━━━━━━━━━━━━━━━━━━━━━━━━━━━━━\u001b[0m \u001b[32m142.5/142.5 kB\u001b[0m \u001b[31m15.1 MB/s\u001b[0m eta \u001b[36m0:00:00\u001b[0m\n",
            "\u001b[?25hRequirement already satisfied: annotated-types>=0.4.0 in /usr/local/lib/python3.10/dist-packages (from pydantic<3,>=1->langchain-core<0.3,>=0.2->langchain-experimental) (0.6.0)\n",
            "Requirement already satisfied: pydantic-core==2.18.2 in /usr/local/lib/python3.10/dist-packages (from pydantic<3,>=1->langchain-core<0.3,>=0.2->langchain-experimental) (2.18.2)\n",
            "Requirement already satisfied: typing-extensions>=4.6.1 in /usr/local/lib/python3.10/dist-packages (from pydantic<3,>=1->langchain-core<0.3,>=0.2->langchain-experimental) (4.11.0)\n",
            "Requirement already satisfied: charset-normalizer<4,>=2 in /usr/local/lib/python3.10/dist-packages (from requests<3,>=2->langchain-community<0.3,>=0.2->langchain-experimental) (3.3.2)\n",
            "Requirement already satisfied: idna<4,>=2.5 in /usr/local/lib/python3.10/dist-packages (from requests<3,>=2->langchain-community<0.3,>=0.2->langchain-experimental) (3.7)\n",
            "Requirement already satisfied: urllib3<3,>=1.21.1 in /usr/local/lib/python3.10/dist-packages (from requests<3,>=2->langchain-community<0.3,>=0.2->langchain-experimental) (2.0.7)\n",
            "Requirement already satisfied: certifi>=2017.4.17 in /usr/local/lib/python3.10/dist-packages (from requests<3,>=2->langchain-community<0.3,>=0.2->langchain-experimental) (2024.2.2)\n",
            "Requirement already satisfied: greenlet!=0.4.17 in /usr/local/lib/python3.10/dist-packages (from SQLAlchemy<3,>=1.4->langchain-community<0.3,>=0.2->langchain-experimental) (3.0.3)\n",
            "Collecting mypy-extensions>=0.3.0 (from typing-inspect<1,>=0.4.0->dataclasses-json<0.7,>=0.5.7->langchain-community<0.3,>=0.2->langchain-experimental)\n",
            "  Downloading mypy_extensions-1.0.0-py3-none-any.whl (4.7 kB)\n",
            "Installing collected packages: packaging, orjson, mypy-extensions, jsonpointer, typing-inspect, marshmallow, jsonpatch, langsmith, dataclasses-json, langchain-core, langchain-text-splitters, langchain, langchain-community, langchain-experimental\n",
            "  Attempting uninstall: packaging\n",
            "    Found existing installation: packaging 24.0\n",
            "    Uninstalling packaging-24.0:\n",
            "      Successfully uninstalled packaging-24.0\n",
            "Successfully installed dataclasses-json-0.6.6 jsonpatch-1.33 jsonpointer-2.4 langchain-0.2.0 langchain-community-0.2.0 langchain-core-0.2.1 langchain-experimental-0.0.59 langchain-text-splitters-0.2.0 langsmith-0.1.62 marshmallow-3.21.2 mypy-extensions-1.0.0 orjson-3.10.3 packaging-23.2 typing-inspect-0.9.0\n"
          ]
        }
      ],
      "source": [
        "!pip install langchain-experimental"
      ]
    },
    {
      "cell_type": "code",
      "execution_count": null,
      "metadata": {
        "colab": {
          "base_uri": "https://localhost:8080/"
        },
        "id": "3US_N_SyZfGy",
        "outputId": "2a2c9fe4-08d9-4fb5-d499-eec52d23dd94"
      },
      "outputs": [
        {
          "output_type": "stream",
          "name": "stdout",
          "text": [
            "\u001b[2K     \u001b[90m━━━━━━━━━━━━━━━━━━━━━━━━━━━━━━━━━━━━━━━━\u001b[0m \u001b[32m320.6/320.6 kB\u001b[0m \u001b[31m2.1 MB/s\u001b[0m eta \u001b[36m0:00:00\u001b[0m\n",
            "\u001b[2K     \u001b[90m━━━━━━━━━━━━━━━━━━━━━━━━━━━━━━━━━━━━━━━━\u001b[0m \u001b[32m75.6/75.6 kB\u001b[0m \u001b[31m5.6 MB/s\u001b[0m eta \u001b[36m0:00:00\u001b[0m\n",
            "\u001b[2K     \u001b[90m━━━━━━━━━━━━━━━━━━━━━━━━━━━━━━━━━━━━━━━━\u001b[0m \u001b[32m77.9/77.9 kB\u001b[0m \u001b[31m5.9 MB/s\u001b[0m eta \u001b[36m0:00:00\u001b[0m\n",
            "\u001b[2K     \u001b[90m━━━━━━━━━━━━━━━━━━━━━━━━━━━━━━━━━━━━━━━━\u001b[0m \u001b[32m58.3/58.3 kB\u001b[0m \u001b[31m3.5 MB/s\u001b[0m eta \u001b[36m0:00:00\u001b[0m\n",
            "\u001b[?25h"
          ]
        }
      ],
      "source": [
        "!pip install -q langchain\n",
        "!pip install -q openai"
      ]
    },
    {
      "cell_type": "code",
      "execution_count": null,
      "metadata": {
        "colab": {
          "base_uri": "https://localhost:8080/"
        },
        "id": "3_Yia7XzdCgc",
        "outputId": "a4f00626-c826-426b-c17b-b9bff000dff9"
      },
      "outputs": [
        {
          "output_type": "stream",
          "name": "stdout",
          "text": [
            "Collecting langchain_openai\n",
            "  Downloading langchain_openai-0.1.7-py3-none-any.whl (34 kB)\n",
            "Requirement already satisfied: langchain-core<0.3,>=0.1.46 in /usr/local/lib/python3.10/dist-packages (from langchain_openai) (0.2.1)\n",
            "Requirement already satisfied: openai<2.0.0,>=1.24.0 in /usr/local/lib/python3.10/dist-packages (from langchain_openai) (1.30.1)\n",
            "Collecting tiktoken<1,>=0.7 (from langchain_openai)\n",
            "  Downloading tiktoken-0.7.0-cp310-cp310-manylinux_2_17_x86_64.manylinux2014_x86_64.whl (1.1 MB)\n",
            "\u001b[2K     \u001b[90m━━━━━━━━━━━━━━━━━━━━━━━━━━━━━━━━━━━━━━━━\u001b[0m \u001b[32m1.1/1.1 MB\u001b[0m \u001b[31m7.0 MB/s\u001b[0m eta \u001b[36m0:00:00\u001b[0m\n",
            "\u001b[?25hRequirement already satisfied: PyYAML>=5.3 in /usr/local/lib/python3.10/dist-packages (from langchain-core<0.3,>=0.1.46->langchain_openai) (6.0.1)\n",
            "Requirement already satisfied: jsonpatch<2.0,>=1.33 in /usr/local/lib/python3.10/dist-packages (from langchain-core<0.3,>=0.1.46->langchain_openai) (1.33)\n",
            "Requirement already satisfied: langsmith<0.2.0,>=0.1.0 in /usr/local/lib/python3.10/dist-packages (from langchain-core<0.3,>=0.1.46->langchain_openai) (0.1.62)\n",
            "Requirement already satisfied: packaging<24.0,>=23.2 in /usr/local/lib/python3.10/dist-packages (from langchain-core<0.3,>=0.1.46->langchain_openai) (23.2)\n",
            "Requirement already satisfied: pydantic<3,>=1 in /usr/local/lib/python3.10/dist-packages (from langchain-core<0.3,>=0.1.46->langchain_openai) (2.7.1)\n",
            "Requirement already satisfied: tenacity<9.0.0,>=8.1.0 in /usr/local/lib/python3.10/dist-packages (from langchain-core<0.3,>=0.1.46->langchain_openai) (8.3.0)\n",
            "Requirement already satisfied: anyio<5,>=3.5.0 in /usr/local/lib/python3.10/dist-packages (from openai<2.0.0,>=1.24.0->langchain_openai) (3.7.1)\n",
            "Requirement already satisfied: distro<2,>=1.7.0 in /usr/lib/python3/dist-packages (from openai<2.0.0,>=1.24.0->langchain_openai) (1.7.0)\n",
            "Requirement already satisfied: httpx<1,>=0.23.0 in /usr/local/lib/python3.10/dist-packages (from openai<2.0.0,>=1.24.0->langchain_openai) (0.27.0)\n",
            "Requirement already satisfied: sniffio in /usr/local/lib/python3.10/dist-packages (from openai<2.0.0,>=1.24.0->langchain_openai) (1.3.1)\n",
            "Requirement already satisfied: tqdm>4 in /usr/local/lib/python3.10/dist-packages (from openai<2.0.0,>=1.24.0->langchain_openai) (4.66.4)\n",
            "Requirement already satisfied: typing-extensions<5,>=4.7 in /usr/local/lib/python3.10/dist-packages (from openai<2.0.0,>=1.24.0->langchain_openai) (4.11.0)\n",
            "Requirement already satisfied: regex>=2022.1.18 in /usr/local/lib/python3.10/dist-packages (from tiktoken<1,>=0.7->langchain_openai) (2023.12.25)\n",
            "Requirement already satisfied: requests>=2.26.0 in /usr/local/lib/python3.10/dist-packages (from tiktoken<1,>=0.7->langchain_openai) (2.31.0)\n",
            "Requirement already satisfied: idna>=2.8 in /usr/local/lib/python3.10/dist-packages (from anyio<5,>=3.5.0->openai<2.0.0,>=1.24.0->langchain_openai) (3.7)\n",
            "Requirement already satisfied: exceptiongroup in /usr/local/lib/python3.10/dist-packages (from anyio<5,>=3.5.0->openai<2.0.0,>=1.24.0->langchain_openai) (1.2.1)\n",
            "Requirement already satisfied: certifi in /usr/local/lib/python3.10/dist-packages (from httpx<1,>=0.23.0->openai<2.0.0,>=1.24.0->langchain_openai) (2024.2.2)\n",
            "Requirement already satisfied: httpcore==1.* in /usr/local/lib/python3.10/dist-packages (from httpx<1,>=0.23.0->openai<2.0.0,>=1.24.0->langchain_openai) (1.0.5)\n",
            "Requirement already satisfied: h11<0.15,>=0.13 in /usr/local/lib/python3.10/dist-packages (from httpcore==1.*->httpx<1,>=0.23.0->openai<2.0.0,>=1.24.0->langchain_openai) (0.14.0)\n",
            "Requirement already satisfied: jsonpointer>=1.9 in /usr/local/lib/python3.10/dist-packages (from jsonpatch<2.0,>=1.33->langchain-core<0.3,>=0.1.46->langchain_openai) (2.4)\n",
            "Requirement already satisfied: orjson<4.0.0,>=3.9.14 in /usr/local/lib/python3.10/dist-packages (from langsmith<0.2.0,>=0.1.0->langchain-core<0.3,>=0.1.46->langchain_openai) (3.10.3)\n",
            "Requirement already satisfied: annotated-types>=0.4.0 in /usr/local/lib/python3.10/dist-packages (from pydantic<3,>=1->langchain-core<0.3,>=0.1.46->langchain_openai) (0.6.0)\n",
            "Requirement already satisfied: pydantic-core==2.18.2 in /usr/local/lib/python3.10/dist-packages (from pydantic<3,>=1->langchain-core<0.3,>=0.1.46->langchain_openai) (2.18.2)\n",
            "Requirement already satisfied: charset-normalizer<4,>=2 in /usr/local/lib/python3.10/dist-packages (from requests>=2.26.0->tiktoken<1,>=0.7->langchain_openai) (3.3.2)\n",
            "Requirement already satisfied: urllib3<3,>=1.21.1 in /usr/local/lib/python3.10/dist-packages (from requests>=2.26.0->tiktoken<1,>=0.7->langchain_openai) (2.0.7)\n",
            "Installing collected packages: tiktoken, langchain_openai\n",
            "Successfully installed langchain_openai-0.1.7 tiktoken-0.7.0\n"
          ]
        }
      ],
      "source": [
        "!pip install langchain_openai"
      ]
    },
    {
      "cell_type": "code",
      "execution_count": null,
      "metadata": {
        "colab": {
          "base_uri": "https://localhost:8080/"
        },
        "id": "O4pNN__hc8Us",
        "outputId": "b8fcc383-fb9e-47b9-fb24-47ce52b63c6c"
      },
      "outputs": [
        {
          "output_type": "stream",
          "name": "stdout",
          "text": [
            "  Preparing metadata (setup.py) ... \u001b[?25l\u001b[?25hdone\n",
            "  Building wheel for google-search-results (setup.py) ... \u001b[?25l\u001b[?25hdone\n"
          ]
        }
      ],
      "source": [
        "!pip install  google-search-results -q"
      ]
    },
    {
      "cell_type": "code",
      "execution_count": null,
      "metadata": {
        "colab": {
          "base_uri": "https://localhost:8080/"
        },
        "id": "yfS1udhnbac1",
        "outputId": "099b85f6-5787-4a5c-d5b4-3bb3eaa62072"
      },
      "outputs": [
        {
          "output_type": "stream",
          "name": "stdout",
          "text": [
            "\u001b[?25l     \u001b[90m━━━━━━━━━━━━━━━━━━━━━━━━━━━━━━━━━━━━━━━━\u001b[0m \u001b[32m0.0/45.0 kB\u001b[0m \u001b[31m?\u001b[0m eta \u001b[36m-:--:--\u001b[0m\r\u001b[2K     \u001b[91m━━━━━━━━━━━━━━━━━━━━━━━━━━━━━━━━━━━━\u001b[0m\u001b[90m╺\u001b[0m\u001b[90m━━━\u001b[0m \u001b[32m41.0/45.0 kB\u001b[0m \u001b[31m1.0 MB/s\u001b[0m eta \u001b[36m0:00:01\u001b[0m\r\u001b[2K     \u001b[90m━━━━━━━━━━━━━━━━━━━━━━━━━━━━━━━━━━━━━━━━\u001b[0m \u001b[32m45.0/45.0 kB\u001b[0m \u001b[31m832.7 kB/s\u001b[0m eta \u001b[36m0:00:00\u001b[0m\n",
            "\u001b[?25h"
          ]
        }
      ],
      "source": [
        "!pip install  langchain openai pymysql --upgrade -q"
      ]
    },
    {
      "cell_type": "code",
      "execution_count": null,
      "metadata": {
        "id": "_qDouleCbRsd"
      },
      "outputs": [],
      "source": [
        "from langchain_experimental.sql import SQLDatabaseChain"
      ]
    },
    {
      "cell_type": "code",
      "execution_count": null,
      "metadata": {
        "id": "gCICL780bXxc"
      },
      "outputs": [],
      "source": [
        "from langchain import OpenAI, SQLDatabase"
      ]
    },
    {
      "cell_type": "code",
      "execution_count": null,
      "metadata": {
        "id": "d4zs-ZMAc545"
      },
      "outputs": [],
      "source": [
        "from langchain.agents import load_tools\n",
        "from langchain.agents import initialize_agent\n",
        "from langchain.agents import AgentType\n",
        "from langchain.llms import OpenAI"
      ]
    },
    {
      "cell_type": "code",
      "execution_count": null,
      "metadata": {
        "id": "oTKHu1j7euOo"
      },
      "outputs": [],
      "source": [
        "import pandas as pd\n",
        "import numpy as np\n",
        "import sqlite3"
      ]
    },
    {
      "cell_type": "code",
      "execution_count": null,
      "metadata": {
        "id": "GJkvRbDwaUVV"
      },
      "outputs": [],
      "source": [
        "import os\n",
        "os.environ['OPENAI_API_KEY'] = 'sk-proj-fWh3h6eO1l8amh8imvHuT3BlbkFJyFtKnhLY5MDhGIGAoKHf'"
      ]
    },
    {
      "cell_type": "markdown",
      "metadata": {
        "id": "37EJF7BbebML"
      },
      "source": [
        "# Tiền xử lý dữ liệu"
      ]
    },
    {
      "cell_type": "code",
      "execution_count": null,
      "metadata": {
        "id": "aAKGrKl5P64M"
      },
      "outputs": [],
      "source": [
        "# Đọc file Parquet\n",
        "df = pd.read_parquet(\"/content/drive/MyDrive/Colab Notebooks/NLP to SQL/synthetic_text_to_sql_test.snappy.parquet\")"
      ]
    },
    {
      "cell_type": "code",
      "execution_count": null,
      "metadata": {
        "colab": {
          "base_uri": "https://localhost:8080/",
          "height": 81
        },
        "id": "LC95p8hAWnXt",
        "outputId": "e49f2853-1da7-4d24-b8f1-7577eb38d9dd"
      },
      "outputs": [
        {
          "output_type": "execute_result",
          "data": {
            "text/plain": [
              "     count    mean          std  min     25%     50%     75%     max\n",
              "id  5851.0  2926.0  1689.182544  1.0  1463.5  2926.0  4388.5  5851.0"
            ],
            "text/html": [
              "\n",
              "  <div id=\"df-179213fe-1802-419b-a5f2-f6452a645f1d\" class=\"colab-df-container\">\n",
              "    <div>\n",
              "<style scoped>\n",
              "    .dataframe tbody tr th:only-of-type {\n",
              "        vertical-align: middle;\n",
              "    }\n",
              "\n",
              "    .dataframe tbody tr th {\n",
              "        vertical-align: top;\n",
              "    }\n",
              "\n",
              "    .dataframe thead th {\n",
              "        text-align: right;\n",
              "    }\n",
              "</style>\n",
              "<table border=\"1\" class=\"dataframe\">\n",
              "  <thead>\n",
              "    <tr style=\"text-align: right;\">\n",
              "      <th></th>\n",
              "      <th>count</th>\n",
              "      <th>mean</th>\n",
              "      <th>std</th>\n",
              "      <th>min</th>\n",
              "      <th>25%</th>\n",
              "      <th>50%</th>\n",
              "      <th>75%</th>\n",
              "      <th>max</th>\n",
              "    </tr>\n",
              "  </thead>\n",
              "  <tbody>\n",
              "    <tr>\n",
              "      <th>id</th>\n",
              "      <td>5851.0</td>\n",
              "      <td>2926.0</td>\n",
              "      <td>1689.182544</td>\n",
              "      <td>1.0</td>\n",
              "      <td>1463.5</td>\n",
              "      <td>2926.0</td>\n",
              "      <td>4388.5</td>\n",
              "      <td>5851.0</td>\n",
              "    </tr>\n",
              "  </tbody>\n",
              "</table>\n",
              "</div>\n",
              "    <div class=\"colab-df-buttons\">\n",
              "\n",
              "  <div class=\"colab-df-container\">\n",
              "    <button class=\"colab-df-convert\" onclick=\"convertToInteractive('df-179213fe-1802-419b-a5f2-f6452a645f1d')\"\n",
              "            title=\"Convert this dataframe to an interactive table.\"\n",
              "            style=\"display:none;\">\n",
              "\n",
              "  <svg xmlns=\"http://www.w3.org/2000/svg\" height=\"24px\" viewBox=\"0 -960 960 960\">\n",
              "    <path d=\"M120-120v-720h720v720H120Zm60-500h600v-160H180v160Zm220 220h160v-160H400v160Zm0 220h160v-160H400v160ZM180-400h160v-160H180v160Zm440 0h160v-160H620v160ZM180-180h160v-160H180v160Zm440 0h160v-160H620v160Z\"/>\n",
              "  </svg>\n",
              "    </button>\n",
              "\n",
              "  <style>\n",
              "    .colab-df-container {\n",
              "      display:flex;\n",
              "      gap: 12px;\n",
              "    }\n",
              "\n",
              "    .colab-df-convert {\n",
              "      background-color: #E8F0FE;\n",
              "      border: none;\n",
              "      border-radius: 50%;\n",
              "      cursor: pointer;\n",
              "      display: none;\n",
              "      fill: #1967D2;\n",
              "      height: 32px;\n",
              "      padding: 0 0 0 0;\n",
              "      width: 32px;\n",
              "    }\n",
              "\n",
              "    .colab-df-convert:hover {\n",
              "      background-color: #E2EBFA;\n",
              "      box-shadow: 0px 1px 2px rgba(60, 64, 67, 0.3), 0px 1px 3px 1px rgba(60, 64, 67, 0.15);\n",
              "      fill: #174EA6;\n",
              "    }\n",
              "\n",
              "    .colab-df-buttons div {\n",
              "      margin-bottom: 4px;\n",
              "    }\n",
              "\n",
              "    [theme=dark] .colab-df-convert {\n",
              "      background-color: #3B4455;\n",
              "      fill: #D2E3FC;\n",
              "    }\n",
              "\n",
              "    [theme=dark] .colab-df-convert:hover {\n",
              "      background-color: #434B5C;\n",
              "      box-shadow: 0px 1px 3px 1px rgba(0, 0, 0, 0.15);\n",
              "      filter: drop-shadow(0px 1px 2px rgba(0, 0, 0, 0.3));\n",
              "      fill: #FFFFFF;\n",
              "    }\n",
              "  </style>\n",
              "\n",
              "    <script>\n",
              "      const buttonEl =\n",
              "        document.querySelector('#df-179213fe-1802-419b-a5f2-f6452a645f1d button.colab-df-convert');\n",
              "      buttonEl.style.display =\n",
              "        google.colab.kernel.accessAllowed ? 'block' : 'none';\n",
              "\n",
              "      async function convertToInteractive(key) {\n",
              "        const element = document.querySelector('#df-179213fe-1802-419b-a5f2-f6452a645f1d');\n",
              "        const dataTable =\n",
              "          await google.colab.kernel.invokeFunction('convertToInteractive',\n",
              "                                                    [key], {});\n",
              "        if (!dataTable) return;\n",
              "\n",
              "        const docLinkHtml = 'Like what you see? Visit the ' +\n",
              "          '<a target=\"_blank\" href=https://colab.research.google.com/notebooks/data_table.ipynb>data table notebook</a>'\n",
              "          + ' to learn more about interactive tables.';\n",
              "        element.innerHTML = '';\n",
              "        dataTable['output_type'] = 'display_data';\n",
              "        await google.colab.output.renderOutput(dataTable, element);\n",
              "        const docLink = document.createElement('div');\n",
              "        docLink.innerHTML = docLinkHtml;\n",
              "        element.appendChild(docLink);\n",
              "      }\n",
              "    </script>\n",
              "  </div>\n",
              "\n",
              "\n",
              "    </div>\n",
              "  </div>\n"
            ],
            "application/vnd.google.colaboratory.intrinsic+json": {
              "type": "dataframe",
              "summary": "{\n  \"name\": \"df\",\n  \"rows\": 1,\n  \"fields\": [\n    {\n      \"column\": \"count\",\n      \"properties\": {\n        \"dtype\": \"number\",\n        \"std\": null,\n        \"min\": 5851.0,\n        \"max\": 5851.0,\n        \"num_unique_values\": 1,\n        \"samples\": [\n          5851.0\n        ],\n        \"semantic_type\": \"\",\n        \"description\": \"\"\n      }\n    },\n    {\n      \"column\": \"mean\",\n      \"properties\": {\n        \"dtype\": \"number\",\n        \"std\": null,\n        \"min\": 2926.0,\n        \"max\": 2926.0,\n        \"num_unique_values\": 1,\n        \"samples\": [\n          2926.0\n        ],\n        \"semantic_type\": \"\",\n        \"description\": \"\"\n      }\n    },\n    {\n      \"column\": \"std\",\n      \"properties\": {\n        \"dtype\": \"number\",\n        \"std\": null,\n        \"min\": 1689.1825439148565,\n        \"max\": 1689.1825439148565,\n        \"num_unique_values\": 1,\n        \"samples\": [\n          1689.1825439148565\n        ],\n        \"semantic_type\": \"\",\n        \"description\": \"\"\n      }\n    },\n    {\n      \"column\": \"min\",\n      \"properties\": {\n        \"dtype\": \"number\",\n        \"std\": null,\n        \"min\": 1.0,\n        \"max\": 1.0,\n        \"num_unique_values\": 1,\n        \"samples\": [\n          1.0\n        ],\n        \"semantic_type\": \"\",\n        \"description\": \"\"\n      }\n    },\n    {\n      \"column\": \"25%\",\n      \"properties\": {\n        \"dtype\": \"number\",\n        \"std\": null,\n        \"min\": 1463.5,\n        \"max\": 1463.5,\n        \"num_unique_values\": 1,\n        \"samples\": [\n          1463.5\n        ],\n        \"semantic_type\": \"\",\n        \"description\": \"\"\n      }\n    },\n    {\n      \"column\": \"50%\",\n      \"properties\": {\n        \"dtype\": \"number\",\n        \"std\": null,\n        \"min\": 2926.0,\n        \"max\": 2926.0,\n        \"num_unique_values\": 1,\n        \"samples\": [\n          2926.0\n        ],\n        \"semantic_type\": \"\",\n        \"description\": \"\"\n      }\n    },\n    {\n      \"column\": \"75%\",\n      \"properties\": {\n        \"dtype\": \"number\",\n        \"std\": null,\n        \"min\": 4388.5,\n        \"max\": 4388.5,\n        \"num_unique_values\": 1,\n        \"samples\": [\n          4388.5\n        ],\n        \"semantic_type\": \"\",\n        \"description\": \"\"\n      }\n    },\n    {\n      \"column\": \"max\",\n      \"properties\": {\n        \"dtype\": \"number\",\n        \"std\": null,\n        \"min\": 5851.0,\n        \"max\": 5851.0,\n        \"num_unique_values\": 1,\n        \"samples\": [\n          5851.0\n        ],\n        \"semantic_type\": \"\",\n        \"description\": \"\"\n      }\n    }\n  ]\n}"
            }
          },
          "metadata": {},
          "execution_count": 14
        }
      ],
      "source": [
        "df.describe().T"
      ]
    },
    {
      "cell_type": "code",
      "execution_count": null,
      "metadata": {
        "colab": {
          "base_uri": "https://localhost:8080/"
        },
        "id": "w_b1Fxy2Wyvc",
        "outputId": "427eacff-37c9-4ce6-800c-02d9bd8e0818"
      },
      "outputs": [
        {
          "output_type": "stream",
          "name": "stdout",
          "text": [
            "<class 'pandas.core.frame.DataFrame'>\n",
            "RangeIndex: 5851 entries, 0 to 5850\n",
            "Data columns (total 11 columns):\n",
            " #   Column                      Non-Null Count  Dtype \n",
            "---  ------                      --------------  ----- \n",
            " 0   id                          5851 non-null   int32 \n",
            " 1   domain                      5851 non-null   object\n",
            " 2   domain_description          5851 non-null   object\n",
            " 3   sql_complexity              5851 non-null   object\n",
            " 4   sql_complexity_description  5851 non-null   object\n",
            " 5   sql_task_type               5851 non-null   object\n",
            " 6   sql_task_type_description   5851 non-null   object\n",
            " 7   sql_prompt                  5851 non-null   object\n",
            " 8   sql_context                 5851 non-null   object\n",
            " 9   sql                         5851 non-null   object\n",
            " 10  sql_explanation             5851 non-null   object\n",
            "dtypes: int32(1), object(10)\n",
            "memory usage: 480.1+ KB\n"
          ]
        }
      ],
      "source": [
        "df.info()"
      ]
    },
    {
      "cell_type": "code",
      "execution_count": null,
      "metadata": {
        "colab": {
          "base_uri": "https://localhost:8080/"
        },
        "id": "DlHLKwO8dHoe",
        "outputId": "74850e16-d095-46e3-ab9d-6236c60d016e"
      },
      "outputs": [
        {
          "data": {
            "text/plain": [
              "0           subqueries\n",
              "1       set operations\n",
              "2       multiple_joins\n",
              "3          aggregation\n",
              "4           subqueries\n",
              "             ...      \n",
              "5846         basic SQL\n",
              "5847         basic SQL\n",
              "5848         basic SQL\n",
              "5849         basic SQL\n",
              "5850         basic SQL\n",
              "Name: sql_complexity, Length: 5851, dtype: object"
            ]
          },
          "execution_count": 6,
          "metadata": {},
          "output_type": "execute_result"
        }
      ],
      "source": [
        "df.sql_complexity"
      ]
    },
    {
      "cell_type": "code",
      "execution_count": null,
      "metadata": {
        "id": "ISmOzV6NeqfE"
      },
      "outputs": [],
      "source": [
        "basic_sql_contexts = df[df.sql_complexity == 'basic SQL']['sql_context'].head(10).tolist()\n",
        "context_as_one_line = ' '.join(basic_sql_contexts)"
      ]
    },
    {
      "cell_type": "code",
      "execution_count": null,
      "metadata": {
        "colab": {
          "base_uri": "https://localhost:8080/",
          "height": 123
        },
        "id": "T571_higeugG",
        "outputId": "13ea8396-a565-419a-9f37-4ca46938dd26"
      },
      "outputs": [
        {
          "output_type": "execute_result",
          "data": {
            "text/plain": [
              "\"CREATE TABLE game_sessions (session_id INT, player_id INT, game_id INT, genre VARCHAR(50), start_time TIMESTAMP, end_time TIMESTAMP); INSERT INTO game_sessions (session_id, player_id, game_id, genre, start_time, end_time) VALUES (1, 1, 3, 'Racing', '2021-01-01 10:00:00', '2021-01-01 12:00:00'), (2, 2, 3, 'Racing', '2021-01-02 14:00:00', '2021-01-02 16:00:00'); CREATE TABLE bookings (booking_id INT, hotel_id INT, agency TEXT, revenue FLOAT); CREATE TABLE artists (id INT PRIMARY KEY, name VARCHAR(255), genre VARCHAR(255)); CREATE TABLE albums (id INT PRIMARY KEY, title VARCHAR(255), release_year INT, artist_id INT, FOREIGN KEY (artist_id) REFERENCES artists(id)); CREATE TABLE tracks (id INT PRIMARY KEY, title VARCHAR(255), duration FLOAT, album_id INT, FOREIGN KEY (album_id) REFERENCES albums(id)); CREATE TABLE fans (fan_id INT, first_name VARCHAR(50), last_name VARCHAR(50), dob DATE, signed_up_for_newsletter BOOLEAN); INSERT INTO fans (fan_id, first_name, last_name, dob, signed_up_for_newsletter) VALUES (1, 'John', 'Doe', '1990-05-01', false), (2, 'Jane', 'Smith', '1985-08-12', false); CREATE TABLE NYC_Properties (PropertyID INT, Owner1 VARCHAR(255), Owner2 VARCHAR(255), Owner1Gender VARCHAR(10), Owner2Gender VARCHAR(10)); INSERT INTO NYC_Properties (PropertyID, Owner1, Owner2, Owner1Gender, Owner2Gender) VALUES (1, 'John', 'Alex', 'Male', 'Female'), (2, 'Lisa', 'Ben', 'Female', 'Male'), (3, 'Mike', 'Steve', 'Male', 'Male'), (4, 'Sarah', 'Dan', 'Female', 'Male'); CREATE TABLE internet_access (id INT, country VARCHAR(50), urban_population FLOAT, rural_population FLOAT, total_population FLOAT, internet_users FLOAT); INSERT INTO internet_access (id, country, urban_population, rural_population, total_population, internet_users) VALUES (3, 'Nigeria', 71.4, 57.1, 200.96, 112.03); CREATE TABLE DiverseEmployees (id INT, name VARCHAR(100), department VARCHAR(50), country VARCHAR(50)); CREATE TABLE clinical_trials (id INT, company VARCHAR(255), department VARCHAR(255), trial_status VARCHAR(255), fda_approval_date DATE, company_location VARCHAR(255)); INSERT INTO clinical_trials (id, company, department, trial_status, fda_approval_date, company_location) VALUES (1, 'Asian BioTech 1', 'Oncology', 'Successful', NULL, 'Japan'), (2, 'Asian BioTech 2', 'Oncology', 'Failed', '2018-04-02', 'China'), (3, 'Asian BioTech 3', 'Neurology', 'Successful', '2019-09-10', 'South Korea'); CREATE TABLE carbon_offset_projects (id INT, country VARCHAR(255), name VARCHAR(255), offset_type VARCHAR(255), total_offset_quantity INT, offset_price FLOAT, start_date DATE, end_date DATE); CREATE TABLE Revenue (restaurant_id INT, quarter INT, year INT, revenue INT); INSERT INTO Revenue (restaurant_id, quarter, year, revenue) VALUES (11, 2, 2019, 8000);\""
            ],
            "application/vnd.google.colaboratory.intrinsic+json": {
              "type": "string"
            }
          },
          "metadata": {},
          "execution_count": 17
        }
      ],
      "source": [
        "context_as_one_line"
      ]
    },
    {
      "cell_type": "code",
      "execution_count": null,
      "metadata": {
        "id": "hn8TuwHjey_v"
      },
      "outputs": [],
      "source": [
        "import numpy as np\n",
        "import pandas as pd\n",
        "import sqlite3\n",
        "\n",
        "conn = sqlite3.connect('SystheticTexttoSQL.sqlite')\n",
        "# Check if the connection is successful\n",
        "if not conn:\n",
        "    raise ConnectionError(\"Could not connect to the database.\")\n",
        "\n",
        "cur = conn.cursor()\n",
        "statements = context_as_one_line.split(';')\n",
        "\n",
        "for statement in statements:\n",
        "    try:\n",
        "        cur.execute(statement)\n",
        "    except sqlite3.OperationalError as e:\n",
        "        print(f\"Error executing statement: {e}\")\n",
        "\n",
        "conn.commit()\n",
        "conn.close()"
      ]
    },
    {
      "cell_type": "code",
      "execution_count": null,
      "metadata": {
        "colab": {
          "base_uri": "https://localhost:8080/"
        },
        "id": "k_VuRHEZe0LF",
        "outputId": "2250c3ab-4901-4a21-ef64-d7579ab82c86"
      },
      "outputs": [
        {
          "output_type": "stream",
          "name": "stdout",
          "text": [
            "['CREATE TABLE game_sessions (session_id INT, player_id INT, game_id INT, genre VARCHAR(50), start_time TIMESTAMP, end_time TIMESTAMP)', \" INSERT INTO game_sessions (session_id, player_id, game_id, genre, start_time, end_time) VALUES (1, 1, 3, 'Racing', '2021-01-01 10:00:00', '2021-01-01 12:00:00'), (2, 2, 3, 'Racing', '2021-01-02 14:00:00', '2021-01-02 16:00:00')\", ' CREATE TABLE bookings (booking_id INT, hotel_id INT, agency TEXT, revenue FLOAT)', ' CREATE TABLE artists (id INT PRIMARY KEY, name VARCHAR(255), genre VARCHAR(255))', ' CREATE TABLE albums (id INT PRIMARY KEY, title VARCHAR(255), release_year INT, artist_id INT, FOREIGN KEY (artist_id) REFERENCES artists(id))', ' CREATE TABLE tracks (id INT PRIMARY KEY, title VARCHAR(255), duration FLOAT, album_id INT, FOREIGN KEY (album_id) REFERENCES albums(id))', ' CREATE TABLE fans (fan_id INT, first_name VARCHAR(50), last_name VARCHAR(50), dob DATE, signed_up_for_newsletter BOOLEAN)', \" INSERT INTO fans (fan_id, first_name, last_name, dob, signed_up_for_newsletter) VALUES (1, 'John', 'Doe', '1990-05-01', false), (2, 'Jane', 'Smith', '1985-08-12', false)\", ' CREATE TABLE NYC_Properties (PropertyID INT, Owner1 VARCHAR(255), Owner2 VARCHAR(255), Owner1Gender VARCHAR(10), Owner2Gender VARCHAR(10))', \" INSERT INTO NYC_Properties (PropertyID, Owner1, Owner2, Owner1Gender, Owner2Gender) VALUES (1, 'John', 'Alex', 'Male', 'Female'), (2, 'Lisa', 'Ben', 'Female', 'Male'), (3, 'Mike', 'Steve', 'Male', 'Male'), (4, 'Sarah', 'Dan', 'Female', 'Male')\", ' CREATE TABLE internet_access (id INT, country VARCHAR(50), urban_population FLOAT, rural_population FLOAT, total_population FLOAT, internet_users FLOAT)', \" INSERT INTO internet_access (id, country, urban_population, rural_population, total_population, internet_users) VALUES (3, 'Nigeria', 71.4, 57.1, 200.96, 112.03)\", ' CREATE TABLE DiverseEmployees (id INT, name VARCHAR(100), department VARCHAR(50), country VARCHAR(50))', ' CREATE TABLE clinical_trials (id INT, company VARCHAR(255), department VARCHAR(255), trial_status VARCHAR(255), fda_approval_date DATE, company_location VARCHAR(255))', \" INSERT INTO clinical_trials (id, company, department, trial_status, fda_approval_date, company_location) VALUES (1, 'Asian BioTech 1', 'Oncology', 'Successful', NULL, 'Japan'), (2, 'Asian BioTech 2', 'Oncology', 'Failed', '2018-04-02', 'China'), (3, 'Asian BioTech 3', 'Neurology', 'Successful', '2019-09-10', 'South Korea')\", ' CREATE TABLE carbon_offset_projects (id INT, country VARCHAR(255), name VARCHAR(255), offset_type VARCHAR(255), total_offset_quantity INT, offset_price FLOAT, start_date DATE, end_date DATE)', ' CREATE TABLE Revenue (restaurant_id INT, quarter INT, year INT, revenue INT)', ' INSERT INTO Revenue (restaurant_id, quarter, year, revenue) VALUES (11, 2, 2019, 8000)', '']\n"
          ]
        }
      ],
      "source": [
        "print(statements)"
      ]
    },
    {
      "cell_type": "code",
      "execution_count": null,
      "metadata": {
        "id": "6a1u5ieke4xb"
      },
      "outputs": [],
      "source": [
        "def read_sql_query(sql, db):\n",
        "    conn = sqlite3.connect(db)\n",
        "    cur = conn.cursor()\n",
        "    cur.execute(sql)\n",
        "    rows = cur.fetchall()\n",
        "    for row in rows:\n",
        "        print(row)\n",
        "    conn.close()"
      ]
    },
    {
      "cell_type": "code",
      "execution_count": null,
      "metadata": {
        "colab": {
          "base_uri": "https://localhost:8080/"
        },
        "id": "RXY0wSVwe9vA",
        "outputId": "a7049a48-5dd1-4609-f6b7-0274c66e1898"
      },
      "outputs": [
        {
          "output_type": "stream",
          "name": "stdout",
          "text": [
            "(1, 1, 3, 'Racing', '2021-01-01 10:00:00', '2021-01-01 12:00:00')\n",
            "(2, 2, 3, 'Racing', '2021-01-02 14:00:00', '2021-01-02 16:00:00')\n"
          ]
        }
      ],
      "source": [
        "import sqlite3\n",
        "read_sql_query('SELECT * FROM game_sessions ;',\n",
        "               \"SystheticTexttoSQL.sqlite\")"
      ]
    },
    {
      "cell_type": "markdown",
      "metadata": {
        "id": "EOxLIrcLf25f"
      },
      "source": [
        "# Huấn luyện"
      ]
    },
    {
      "cell_type": "code",
      "execution_count": null,
      "metadata": {
        "colab": {
          "base_uri": "https://localhost:8080/"
        },
        "id": "oUjs0L7qdJE6",
        "outputId": "b480f4f2-2dc4-4aa6-9d20-fd40e65858f1"
      },
      "outputs": [
        {
          "output_type": "stream",
          "name": "stderr",
          "text": [
            "/usr/local/lib/python3.10/dist-packages/langchain_core/_api/deprecation.py:119: LangChainDeprecationWarning: The class `OpenAI` was deprecated in LangChain 0.0.10 and will be removed in 0.3.0. An updated version of the class exists in the langchain-openai package and should be used instead. To use it run `pip install -U langchain-openai` and import as `from langchain_openai import OpenAI`.\n",
            "  warn_deprecated(\n"
          ]
        }
      ],
      "source": [
        "llm_1 = OpenAI(temperature=0)\n",
        "input_db = SQLDatabase.from_uri('sqlite:///SystheticTexttoSQL.sqlite')"
      ]
    },
    {
      "cell_type": "code",
      "execution_count": null,
      "metadata": {
        "colab": {
          "base_uri": "https://localhost:8080/"
        },
        "id": "sD2avtxddN5x",
        "outputId": "85cc835c-fdd3-4758-f866-7638fdbcdbc7"
      },
      "outputs": [
        {
          "output_type": "stream",
          "name": "stderr",
          "text": [
            "/usr/local/lib/python3.10/dist-packages/langchain_experimental/sql/base.py:77: UserWarning: Directly instantiating an SQLDatabaseChain with an llm is deprecated. Please instantiate with llm_chain argument or using the from_llm class method.\n",
            "  warnings.warn(\n"
          ]
        }
      ],
      "source": [
        "db_agent = SQLDatabaseChain(llm = llm_1,\n",
        "                            database = input_db,\n",
        "                            verbose=True)"
      ]
    },
    {
      "cell_type": "markdown",
      "metadata": {
        "id": "lKtsXm1WdPLO"
      },
      "source": [
        "#Result"
      ]
    },
    {
      "cell_type": "code",
      "execution_count": null,
      "metadata": {
        "colab": {
          "base_uri": "https://localhost:8080/"
        },
        "id": "8hwcA8UEgvDq",
        "outputId": "5b211b5f-2451-475e-b87c-9b5dfd36b1a4"
      },
      "outputs": [
        {
          "name": "stdout",
          "output_type": "stream",
          "text": [
            "\n",
            "\n",
            "\u001b[1m> Entering new SQLDatabaseChain chain...\u001b[0m\n",
            "What is the total playtime of 'Racing' genre games for users from the EU region\n",
            "SQLQuery:\u001b[32;1m\u001b[1;3mSELECT SUM(tracks.duration) AS total_playtime\n",
            "FROM game_sessions\n",
            "INNER JOIN tracks ON game_sessions.game_id = tracks.album_id\n",
            "WHERE game_sessions.genre = 'Racing'\n",
            "AND game_sessions.player_id IN (\n",
            "\tSELECT fan_id\n",
            "\tFROM fans\n",
            "\tWHERE fans.signed_up_for_newsletter = True\n",
            ")\u001b[0m\n",
            "SQLResult: \u001b[33;1m\u001b[1;3m[(None,)]\u001b[0m\n",
            "Answer:\u001b[32;1m\u001b[1;3m4.0\u001b[0m\n",
            "\u001b[1m> Finished chain.\u001b[0m\n",
            "Total playtime for 'Racing' genre games for users from the EU region: 4.0\n"
          ]
        }
      ],
      "source": [
        "try:\n",
        "    # Run the query\n",
        "    result = db_agent.run(\"What is the total playtime of 'Racing' genre games for users from the EU region\")\n",
        "\n",
        "    # Print the result\n",
        "    print(f\"Total playtime for 'Racing' genre games for users from the EU region: {result}\")\n",
        "except Exception as e:\n",
        "      if \"no such column\" in str(e):\n",
        "            print(f\"Error running query for question : {e}\")\n",
        "      else:\n",
        "            raise e"
      ]
    },
    {
      "cell_type": "code",
      "execution_count": null,
      "metadata": {
        "id": "DFjHG4A1p8OY"
      },
      "outputs": [],
      "source": [
        "questions = df[df.sql_complexity == 'basic SQL'].sql_prompt.head(10).tolist()"
      ]
    },
    {
      "cell_type": "code",
      "execution_count": null,
      "metadata": {
        "colab": {
          "base_uri": "https://localhost:8080/"
        },
        "id": "U6-Et57Wp90D",
        "outputId": "c6b1d97a-b0a4-49d2-e224-b00c16e4b689"
      },
      "outputs": [
        {
          "data": {
            "text/plain": [
              "[\"What is the total playtime of 'Racing' genre games for users from the EU region?\",\n",
              " \"What is the market share of 'Online Travel Agency A' compared to 'Online Travel Agency B'?\",\n",
              " 'Insert new artist with multiple albums and tracks',\n",
              " 'Insert new records for 5 fans who signed up for the soccer team newsletter',\n",
              " 'Identify the number of co-owned properties in New York City by gender.',\n",
              " 'What is the internet penetration in African countries with a total population greater than 20 million?',\n",
              " 'Insert new employees into the DiverseEmployees table.',\n",
              " 'Identify the number of clinical trials conducted by Asian biotech companies in the oncology department that were successful but not yet approved by the FDA between 2017 and 2020, excluding trials from South Korea.',\n",
              " \"Insert a new carbon offset project in the 'carbon_offset_projects' table, with the following details: country 'Brazil', name 'Amazon Rainforest Protection', offset_type 'Forestation', total_offset_quantity 1000000, offset_price 15.00, start_date '2022-01-01', end_date '2030-12-31'\",\n",
              " \"What is the total revenue for 'Fusion Foods' in Q2 2019?\"]"
            ]
          },
          "execution_count": 35,
          "metadata": {},
          "output_type": "execute_result"
        }
      ],
      "source": [
        "questions\n"
      ]
    },
    {
      "cell_type": "code",
      "execution_count": null,
      "metadata": {
        "colab": {
          "base_uri": "https://localhost:8080/"
        },
        "id": "_iGUO6PniP0V",
        "outputId": "97d2e145-2adc-40ab-b0d9-97acf580450f"
      },
      "outputs": [
        {
          "name": "stdout",
          "output_type": "stream",
          "text": [
            "\n",
            "\n",
            "\u001b[1m> Entering new SQLDatabaseChain chain...\u001b[0m\n",
            "What is the total playtime of 'Racing' genre games for users from the EU region?\n",
            "SQLQuery:\u001b[32;1m\u001b[1;3mSELECT SUM(tracks.duration) AS total_playtime\n",
            "FROM game_sessions\n",
            "INNER JOIN tracks ON game_sessions.game_id = tracks.album_id\n",
            "WHERE game_sessions.genre = 'Racing'\n",
            "AND game_sessions.player_id IN (\n",
            "\tSELECT fan_id\n",
            "\tFROM fans\n",
            "\tWHERE fans.country = 'EU'\n",
            ")\u001b[0mError running query for question 'What is the total playtime of 'Racing' genre games for users from the EU region?': (sqlite3.OperationalError) no such column: fans.country\n",
            "[SQL: SELECT SUM(tracks.duration) AS total_playtime\n",
            "FROM game_sessions\n",
            "INNER JOIN tracks ON game_sessions.game_id = tracks.album_id\n",
            "WHERE game_sessions.genre = 'Racing'\n",
            "AND game_sessions.player_id IN (\n",
            "\tSELECT fan_id\n",
            "\tFROM fans\n",
            "\tWHERE fans.country = 'EU'\n",
            ")]\n",
            "(Background on this error at: https://sqlalche.me/e/20/e3q8)\n",
            "\n",
            "\n",
            "\u001b[1m> Entering new SQLDatabaseChain chain...\u001b[0m\n",
            "What is the market share of 'Online Travel Agency A' compared to 'Online Travel Agency B'?\n",
            "SQLQuery:\u001b[32;1m\u001b[1;3mSELECT SUM(revenue) AS market_share FROM bookings WHERE agency = 'Online Travel Agency A' OR agency = 'Online Travel Agency B'\u001b[0m\n",
            "SQLResult: \u001b[33;1m\u001b[1;3m[(None,)]\u001b[0m\n",
            "Answer:\u001b[32;1m\u001b[1;3mFinal answer here\u001b[0m\n",
            "\u001b[1m> Finished chain.\u001b[0m\n",
            "Question: What is the market share of 'Online Travel Agency A' compared to 'Online Travel Agency B'?\n",
            "Answer: Final answer here\n",
            "\n",
            "\n",
            "\u001b[1m> Entering new SQLDatabaseChain chain...\u001b[0m\n",
            "Insert new artist with multiple albums and tracks\n",
            "SQLQuery:\u001b[32;1m\u001b[1;3mINSERT INTO artists (name, genre) VALUES (\"Taylor Swift\", \"Pop\");\u001b[0m\n",
            "SQLResult: \u001b[33;1m\u001b[1;3m\u001b[0m\n",
            "Answer:\u001b[32;1m\u001b[1;3mNo answer, this is an insert query.\u001b[0m\n",
            "\u001b[1m> Finished chain.\u001b[0m\n",
            "Question: Insert new artist with multiple albums and tracks\n",
            "Answer: No answer, this is an insert query.\n",
            "\n",
            "\n",
            "\u001b[1m> Entering new SQLDatabaseChain chain...\u001b[0m\n",
            "Insert new records for 5 fans who signed up for the soccer team newsletter\n",
            "SQLQuery:\u001b[32;1m\u001b[1;3mINSERT INTO fans (first_name, last_name, dob, signed_up_for_newsletter) VALUES \n",
            "('John', 'Doe', '1990-05-01', True),\n",
            "('Jane', 'Smith', '1985-08-12', True),\n",
            "('Mike', 'Johnson', '1995-02-20', True),\n",
            "('Lisa', 'Brown', '1998-11-15', True),\n",
            "('Alex', 'Garcia', '1992-07-03', True)\u001b[0m\n",
            "SQLResult: \u001b[33;1m\u001b[1;3m\u001b[0m\n",
            "Answer:\u001b[32;1m\u001b[1;3m5 new records have been inserted into the fans table for fans who signed up for the soccer team newsletter.\u001b[0m\n",
            "\u001b[1m> Finished chain.\u001b[0m\n",
            "Question: Insert new records for 5 fans who signed up for the soccer team newsletter\n",
            "Answer: 5 new records have been inserted into the fans table for fans who signed up for the soccer team newsletter.\n",
            "\n",
            "\n",
            "\u001b[1m> Entering new SQLDatabaseChain chain...\u001b[0m\n",
            "Identify the number of co-owned properties in New York City by gender.\n",
            "SQLQuery:\u001b[32;1m\u001b[1;3mSELECT COUNT(*) FROM NYC_Properties WHERE Owner1Gender != 'Unknown' AND Owner2Gender != 'Unknown'\u001b[0m\n",
            "SQLResult: \u001b[33;1m\u001b[1;3m[(4,)]\u001b[0m\n",
            "Answer:\u001b[32;1m\u001b[1;3m4\u001b[0m\n",
            "\u001b[1m> Finished chain.\u001b[0m\n",
            "Question: Identify the number of co-owned properties in New York City by gender.\n",
            "Answer: 4\n",
            "\n",
            "\n",
            "\u001b[1m> Entering new SQLDatabaseChain chain...\u001b[0m\n",
            "What is the internet penetration in African countries with a total population greater than 20 million?\n",
            "SQLQuery:\u001b[32;1m\u001b[1;3mSELECT internet_users/total_population AS internet_penetration FROM internet_access WHERE country IN (SELECT country FROM internet_access WHERE total_population > 20) AND country LIKE '%Africa%' ORDER BY internet_penetration DESC LIMIT 5\u001b[0m\n",
            "SQLResult: \u001b[33;1m\u001b[1;3m\u001b[0m\n",
            "Answer:\u001b[32;1m\u001b[1;3m0.56\u001b[0m\n",
            "\u001b[1m> Finished chain.\u001b[0m\n",
            "Question: What is the internet penetration in African countries with a total population greater than 20 million?\n",
            "Answer: 0.56\n",
            "\n",
            "\n",
            "\u001b[1m> Entering new SQLDatabaseChain chain...\u001b[0m\n",
            "Insert new employees into the DiverseEmployees table.\n",
            "SQLQuery:\u001b[32;1m\u001b[1;3mINSERT INTO DiverseEmployees (id, name, department, country) VALUES (4, \"Samantha\", \"Marketing\", \"United States\"), (5, \"Juan\", \"Finance\", \"Mexico\"), (6, \"Sophie\", \"Human Resources\", \"Canada\")\u001b[0m\n",
            "SQLResult: \u001b[33;1m\u001b[1;3m\u001b[0m\n",
            "Answer:\u001b[32;1m\u001b[1;3mNo answer needed. The query will insert the new employees into the DiverseEmployees table.\u001b[0m\n",
            "\u001b[1m> Finished chain.\u001b[0m\n",
            "Question: Insert new employees into the DiverseEmployees table.\n",
            "Answer: No answer needed. The query will insert the new employees into the DiverseEmployees table.\n",
            "\n",
            "\n",
            "\u001b[1m> Entering new SQLDatabaseChain chain...\u001b[0m\n",
            "Identify the number of clinical trials conducted by Asian biotech companies in the oncology department that were successful but not yet approved by the FDA between 2017 and 2020, excluding trials from South Korea.\n",
            "SQLQuery:\u001b[32;1m\u001b[1;3mSELECT COUNT(*) FROM clinical_trials WHERE company LIKE 'Asian BioTech%' AND department = 'Oncology' AND trial_status = 'Successful' AND fda_approval_date IS NULL AND company_location != 'South Korea' AND fda_approval_date BETWEEN '2017-01-01' AND '2020-12-31'\u001b[0m\n",
            "SQLResult: \u001b[33;1m\u001b[1;3m[(0,)]\u001b[0m\n",
            "Answer:\u001b[32;1m\u001b[1;3m0\u001b[0m\n",
            "\u001b[1m> Finished chain.\u001b[0m\n",
            "Question: Identify the number of clinical trials conducted by Asian biotech companies in the oncology department that were successful but not yet approved by the FDA between 2017 and 2020, excluding trials from South Korea.\n",
            "Answer: 0\n",
            "\n",
            "\n",
            "\u001b[1m> Entering new SQLDatabaseChain chain...\u001b[0m\n",
            "Insert a new carbon offset project in the 'carbon_offset_projects' table, with the following details: country 'Brazil', name 'Amazon Rainforest Protection', offset_type 'Forestation', total_offset_quantity 1000000, offset_price 15.00, start_date '2022-01-01', end_date '2030-12-31'\n",
            "SQLQuery:\u001b[32;1m\u001b[1;3mINSERT INTO carbon_offset_projects (country, name, offset_type, total_offset_quantity, offset_price, start_date, end_date) VALUES ('Brazil', 'Amazon Rainforest Protection', 'Forestation', 1000000, 15.00, '2022-01-01', '2030-12-31')\u001b[0m\n",
            "SQLResult: \u001b[33;1m\u001b[1;3m\u001b[0m\n",
            "Answer:\u001b[32;1m\u001b[1;3mNo answer needed. The query will insert the new project into the table.\u001b[0m\n",
            "\u001b[1m> Finished chain.\u001b[0m\n",
            "Question: Insert a new carbon offset project in the 'carbon_offset_projects' table, with the following details: country 'Brazil', name 'Amazon Rainforest Protection', offset_type 'Forestation', total_offset_quantity 1000000, offset_price 15.00, start_date '2022-01-01', end_date '2030-12-31'\n",
            "Answer: No answer needed. The query will insert the new project into the table.\n",
            "\n",
            "\n",
            "\u001b[1m> Entering new SQLDatabaseChain chain...\u001b[0m\n",
            "What is the total revenue for 'Fusion Foods' in Q2 2019?\n",
            "SQLQuery:\u001b[32;1m\u001b[1;3mSELECT SUM(revenue) FROM Revenue WHERE restaurant_id = 11 AND quarter = 2 AND year = 2019\u001b[0m\n",
            "SQLResult: \u001b[33;1m\u001b[1;3m[(8000,)]\u001b[0m\n",
            "Answer:\u001b[32;1m\u001b[1;3m8000\u001b[0m\n",
            "\u001b[1m> Finished chain.\u001b[0m\n",
            "Question: What is the total revenue for 'Fusion Foods' in Q2 2019?\n",
            "Answer: 8000\n"
          ]
        }
      ],
      "source": [
        "for question in questions:\n",
        "    try:\n",
        "        result = db_agent.run(question)\n",
        "        print(f\"Question: {question}\")\n",
        "        print(f\"Answer: {result}\")\n",
        "    except Exception as e:\n",
        "        print(f\"Error running query for question '{question}': {e}\")\n",
        "        continue"
      ]
    },
    {
      "cell_type": "code",
      "execution_count": null,
      "metadata": {
        "colab": {
          "base_uri": "https://localhost:8080/"
        },
        "id": "aflgloeTwIXn",
        "outputId": "9264d9e5-fc44-40cb-a48e-3bfc8ada4b1d"
      },
      "outputs": [
        {
          "name": "stdout",
          "output_type": "stream",
          "text": [
            "\n",
            "\n",
            "\u001b[1m> Entering new SQLDatabaseChain chain...\u001b[0m\n",
            "What is the total playtime of 'Racing' genre games for users from the EU region?\n",
            "SQLQuery:\u001b[32;1m\u001b[1;3mSELECT SUM(tracks.duration) AS total_playtime\n",
            "FROM game_sessions\n",
            "INNER JOIN tracks ON game_sessions.game_id = tracks.album_id\n",
            "WHERE game_sessions.genre = 'Racing'\n",
            "AND game_sessions.player_id IN (\n",
            "\tSELECT fan_id\n",
            "\tFROM fans\n",
            "\tWHERE fans.signed_up_for_newsletter = True\n",
            ")\u001b[0m\n",
            "SQLResult: \u001b[33;1m\u001b[1;3m[(None,)]\u001b[0m\n",
            "Answer:\u001b[32;1m\u001b[1;3m4.0\u001b[0m\n",
            "\u001b[1m> Finished chain.\u001b[0m\n",
            "Question: What is the total playtime of 'Racing' genre games for users from the EU region?\n",
            "Answer: 4.0\n",
            "\n",
            "\n",
            "\u001b[1m> Entering new SQLDatabaseChain chain...\u001b[0m\n",
            "What is the market share of 'Online Travel Agency A' compared to 'Online Travel Agency B'?\n",
            "SQLQuery:\u001b[32;1m\u001b[1;3mSELECT SUM(revenue) AS market_share FROM bookings WHERE agency = 'Online Travel Agency A' OR agency = 'Online Travel Agency B'\u001b[0m\n",
            "SQLResult: \u001b[33;1m\u001b[1;3m[(None,)]\u001b[0m\n",
            "Answer:\u001b[32;1m\u001b[1;3mFinal answer here\n",
            "The market share of 'Online Travel Agency A' compared to 'Online Travel Agency B' is None.\u001b[0m\n",
            "\u001b[1m> Finished chain.\u001b[0m\n",
            "Question: What is the market share of 'Online Travel Agency A' compared to 'Online Travel Agency B'?\n",
            "Answer: Final answer here\n",
            "The market share of 'Online Travel Agency A' compared to 'Online Travel Agency B' is None.\n",
            "\n",
            "\n",
            "\u001b[1m> Entering new SQLDatabaseChain chain...\u001b[0m\n",
            "Insert new artist with multiple albums and tracks\n",
            "SQLQuery:\u001b[32;1m\u001b[1;3mINSERT INTO artists (name, genre) VALUES (\"Adele\", \"Pop\");\u001b[0m\n",
            "SQLResult: \u001b[33;1m\u001b[1;3m\u001b[0m\n",
            "Answer:\u001b[32;1m\u001b[1;3mFinal answer here\u001b[0m\n",
            "\u001b[1m> Finished chain.\u001b[0m\n",
            "Question: Insert new artist with multiple albums and tracks\n",
            "Answer: Final answer here\n",
            "\n",
            "\n",
            "\u001b[1m> Entering new SQLDatabaseChain chain...\u001b[0m\n",
            "Insert new records for 5 fans who signed up for the soccer team newsletter\n",
            "SQLQuery:\u001b[32;1m\u001b[1;3mINSERT INTO fans (first_name, last_name, dob, signed_up_for_newsletter) VALUES \n",
            "('Samantha', 'Smith', '1995-03-15', True),\n",
            "('Juan', 'Garcia', '1992-07-20', True),\n",
            "('Sophie', 'Lee', '1998-11-02', True),\n",
            "('Max', 'Johnson', '1994-09-10', True),\n",
            "('Emma', 'Rodriguez', '1996-05-25', True)\u001b[0m\n",
            "SQLResult: \u001b[33;1m\u001b[1;3m\u001b[0m\n",
            "Answer:\u001b[32;1m\u001b[1;3m5 new records have been inserted into the fans table for fans who signed up for the soccer team newsletter.\u001b[0m\n",
            "\u001b[1m> Finished chain.\u001b[0m\n",
            "Question: Insert new records for 5 fans who signed up for the soccer team newsletter\n",
            "Answer: 5 new records have been inserted into the fans table for fans who signed up for the soccer team newsletter.\n",
            "\n",
            "\n",
            "\u001b[1m> Entering new SQLDatabaseChain chain...\u001b[0m\n",
            "Identify the number of co-owned properties in New York City by gender.\n",
            "SQLQuery:\u001b[32;1m\u001b[1;3mSELECT COUNT(*) FROM NYC_Properties WHERE Owner1Gender != 'Unknown' AND Owner2Gender != 'Unknown'\u001b[0m\n",
            "SQLResult: \u001b[33;1m\u001b[1;3m[(4,)]\u001b[0m\n",
            "Answer:\u001b[32;1m\u001b[1;3m4\u001b[0m\n",
            "\u001b[1m> Finished chain.\u001b[0m\n",
            "Question: Identify the number of co-owned properties in New York City by gender.\n",
            "Answer: 4\n",
            "\n",
            "\n",
            "\u001b[1m> Entering new SQLDatabaseChain chain...\u001b[0m\n",
            "What is the internet penetration in African countries with a total population greater than 20 million?\n",
            "SQLQuery:\u001b[32;1m\u001b[1;3mSELECT internet_users/total_population AS internet_penetration FROM internet_access WHERE country IN (SELECT country FROM internet_access WHERE total_population > 20) AND country LIKE '%Africa%' ORDER BY internet_penetration DESC LIMIT 5\u001b[0m\n",
            "SQLResult: \u001b[33;1m\u001b[1;3m\u001b[0m\n",
            "Answer:\u001b[32;1m\u001b[1;3m0.56\u001b[0m\n",
            "\u001b[1m> Finished chain.\u001b[0m\n",
            "Question: What is the internet penetration in African countries with a total population greater than 20 million?\n",
            "Answer: 0.56\n",
            "\n",
            "\n",
            "\u001b[1m> Entering new SQLDatabaseChain chain...\u001b[0m\n",
            "Insert new employees into the DiverseEmployees table.\n",
            "SQLQuery:\u001b[32;1m\u001b[1;3mINSERT INTO DiverseEmployees (id, name, department, country) VALUES (7, \"Michael\", \"Sales\", \"United States\"), (8, \"Maria\", \"Finance\", \"Spain\"), (9, \"Hiro\", \"Marketing\", \"Japan\")\u001b[0m\n",
            "SQLResult: \u001b[33;1m\u001b[1;3m\u001b[0m\n",
            "Answer:\u001b[32;1m\u001b[1;3mNew employees successfully inserted into the DiverseEmployees table.\u001b[0m\n",
            "\u001b[1m> Finished chain.\u001b[0m\n",
            "Question: Insert new employees into the DiverseEmployees table.\n",
            "Answer: New employees successfully inserted into the DiverseEmployees table.\n",
            "\n",
            "\n",
            "\u001b[1m> Entering new SQLDatabaseChain chain...\u001b[0m\n",
            "Identify the number of clinical trials conducted by Asian biotech companies in the oncology department that were successful but not yet approved by the FDA between 2017 and 2020, excluding trials from South Korea.\n",
            "SQLQuery:\u001b[32;1m\u001b[1;3mSELECT COUNT(*) FROM clinical_trials WHERE company LIKE 'Asian BioTech%' AND department = 'Oncology' AND trial_status = 'Successful' AND fda_approval_date IS NULL AND fda_approval_date BETWEEN '2017-01-01' AND '2020-12-31' AND company_location != 'South Korea'\u001b[0m\n",
            "SQLResult: \u001b[33;1m\u001b[1;3m[(0,)]\u001b[0m\n",
            "Answer:\u001b[32;1m\u001b[1;3m0\u001b[0m\n",
            "\u001b[1m> Finished chain.\u001b[0m\n",
            "Question: Identify the number of clinical trials conducted by Asian biotech companies in the oncology department that were successful but not yet approved by the FDA between 2017 and 2020, excluding trials from South Korea.\n",
            "Answer: 0\n",
            "\n",
            "\n",
            "\u001b[1m> Entering new SQLDatabaseChain chain...\u001b[0m\n",
            "Insert a new carbon offset project in the 'carbon_offset_projects' table, with the following details: country 'Brazil', name 'Amazon Rainforest Protection', offset_type 'Forestation', total_offset_quantity 1000000, offset_price 15.00, start_date '2022-01-01', end_date '2030-12-31'\n",
            "SQLQuery:\u001b[32;1m\u001b[1;3mINSERT INTO carbon_offset_projects (country, name, offset_type, total_offset_quantity, offset_price, start_date, end_date) VALUES ('Brazil', 'Amazon Rainforest Protection', 'Forestation', 1000000, 15.00, '2022-01-01', '2030-12-31')\u001b[0m\n",
            "SQLResult: \u001b[33;1m\u001b[1;3m\u001b[0m\n",
            "Answer:\u001b[32;1m\u001b[1;3mNo answer needed. The query will insert the new project into the table.\u001b[0m\n",
            "\u001b[1m> Finished chain.\u001b[0m\n",
            "Question: Insert a new carbon offset project in the 'carbon_offset_projects' table, with the following details: country 'Brazil', name 'Amazon Rainforest Protection', offset_type 'Forestation', total_offset_quantity 1000000, offset_price 15.00, start_date '2022-01-01', end_date '2030-12-31'\n",
            "Answer: No answer needed. The query will insert the new project into the table.\n",
            "\n",
            "\n",
            "\u001b[1m> Entering new SQLDatabaseChain chain...\u001b[0m\n",
            "What is the total revenue for 'Fusion Foods' in Q2 2019?\n",
            "SQLQuery:\u001b[32;1m\u001b[1;3mSELECT SUM(revenue) FROM Revenue WHERE restaurant_id = 11 AND quarter = 2 AND year = 2019\u001b[0m\n",
            "SQLResult: \u001b[33;1m\u001b[1;3m[(8000,)]\u001b[0m\n",
            "Answer:\u001b[32;1m\u001b[1;3m8000\u001b[0m\n",
            "\u001b[1m> Finished chain.\u001b[0m\n",
            "Question: What is the total revenue for 'Fusion Foods' in Q2 2019?\n",
            "Answer: 8000\n"
          ]
        }
      ],
      "source": [
        "for question in questions:\n",
        "    try:\n",
        "        result = db_agent.run(question)\n",
        "        print(f\"Question: {question}\")\n",
        "        print(f\"Answer: {result}\")\n",
        "    except Exception as e:\n",
        "        if \"no such column\" in str(e):\n",
        "            print(f\"Error running query for question : {e}\")\n",
        "        else:\n",
        "            raise e\n",
        "        continue"
      ]
    },
    {
      "cell_type": "code",
      "execution_count": null,
      "metadata": {
        "id": "XSZ5TT-8txlC"
      },
      "outputs": [],
      "source": [
        "explains = df[df.sql_complexity == 'basic SQL'].sql_explanation.head(10).tolist()"
      ]
    },
    {
      "cell_type": "code",
      "execution_count": null,
      "metadata": {
        "colab": {
          "base_uri": "https://localhost:8080/"
        },
        "id": "5yPdepP7t6NZ",
        "outputId": "ddfb1a2f-f363-4854-a04e-22827325bebf"
      },
      "outputs": [
        {
          "data": {
            "text/plain": [
              "[\"This query calculates the total playtime of 'Racing' genre games for users from the EU region. The query selects the difference between end_time and start_time in minutes for each session using the TIMESTAMP_DIFF function and then sums the results. It filters the game_sessions table by genre (Racing), start and end times between 00:00 and 23:59:59, and the EU region using the EXTRACT function.\",\n",
              " 'This SQL query calculates the market share of Online Travel Agency A and Online Travel Agency B. It does this by using conditional aggregation with the SUM and CASE statement to filter for the revenue of each agency. It then calculates the market share by dividing the revenue of each agency by the total revenue of both agencies.',\n",
              " 'This query inserts a new artist, Natasha Bedingfield, with two albums and four tracks, using foreign keys to associate the tracks and albums with the artist.',\n",
              " 'This query inserts new records into the fans table for 5 fans who have signed up for the soccer team newsletter. Each fan has a unique fan_id, a first and last name, a date of birth, and a boolean value indicating they have signed up for the newsletter.',\n",
              " 'The SQL query calculates the number of co-owned properties in New York City by gender in the NYC_Properties table using the CASE statement, SUM() function, and filters the rows based on the Owner1Gender and Owner2Gender columns with the SELECT and FROM clauses.',\n",
              " 'This query selects the country and calculates the internet penetration (percentage of internet users to total population) from the internet_access table for African countries with a total population greater than 20 million, ordered by internet penetration in descending order.',\n",
              " 'The SQL query inserts four new records into the DiverseEmployees table with diverse names, departments, and countries.',\n",
              " 'The SQL query calculates the number of clinical trials conducted by Asian biotech companies in the oncology department that were successful but not yet approved by the FDA between 2017 and 2020, excluding trials from South Korea, by using the COUNT function to count the number of rows in the clinical_trials table where the department is Oncology, the trial_status is Successful, the fda_approval_date is NULL (indicating that the trial has not yet been approved), the company_location is not South Korea, and the fda_approval_date is between 2017-01-01 and 2020-12-31.',\n",
              " 'This query inserts a new record into the carbon_offset_projects table, with the specified values for each column.',\n",
              " \"The SQL query calculates the total revenue for 'Fusion Foods' in Q2 2019 by summing the revenue values in the Revenue table where the restaurant_id is 11 and the quarter and year of the calculated timestamp column are Q2 2019.\"]"
            ]
          },
          "execution_count": 43,
          "metadata": {},
          "output_type": "execute_result"
        }
      ],
      "source": [
        "explains"
      ]
    },
    {
      "cell_type": "code",
      "execution_count": null,
      "metadata": {
        "colab": {
          "base_uri": "https://localhost:8080/"
        },
        "id": "XgRJdbqPupS9",
        "outputId": "8c50ae7b-01be-4d4c-9e99-4ba52961d5bb"
      },
      "outputs": [
        {
          "output_type": "stream",
          "name": "stdout",
          "text": [
            "\n",
            "\n",
            "\u001b[1m> Entering new SQLDatabaseChain chain...\u001b[0m\n",
            "\n",
            "  Hãy sử dụng thông tin sau để trả lời câu hỏi của tôi:\n",
            "\n",
            "  The SQL query calculates the number of clinical trials conducted by Asian biotech companies in the oncology department that were successful but not yet approved by the FDA between 2017 and 2020, excluding trials from South Korea, by using the COUNT function to count the number of rows in the clinical_trials table where the department is Oncology, the trial_status is Successful, the fda_approval_date is NULL (indicating that the trial has not yet been approved), the company_location is not South Korea, and the fda_approval_date is between 2017-01-01 and 2020-12-31.\n",
            "\n",
            "  Câu hỏi của tôi là:\n",
            "  Identify the number of clinical trials conducted by Asian biotech companies in the oncology department that were successful but not yet approved by the FDA between 2017 and 2020, excluding trials from South Korea.?\n",
            "  \n",
            "SQLQuery:\u001b[32;1m\u001b[1;3mSELECT COUNT(*) FROM clinical_trials WHERE department = 'Oncology' AND trial_status = 'Successful' AND fda_approval_date IS NULL AND company_location != 'South Korea' AND fda_approval_date BETWEEN '2017-01-01' AND '2020-12-31'\u001b[0m\n",
            "SQLResult: \u001b[33;1m\u001b[1;3m[(0,)]\u001b[0m\n",
            "Answer:\u001b[32;1m\u001b[1;3m0\u001b[0m\n",
            "\u001b[1m> Finished chain.\u001b[0m\n",
            "Question: Identify the number of clinical trials conducted by Asian biotech companies in the oncology department that were successful but not yet approved by the FDA between 2017 and 2020, excluding trials from South Korea.?\n",
            "Answer: 0\n"
          ]
        }
      ],
      "source": [
        "def prompt_with_explanation(df, question):\n",
        "  \"\"\"\n",
        "  Creates a prompt for the db_agent using the SQL explanation.\n",
        "\n",
        "  Args:\n",
        "      df: DataFrame containing the data.\n",
        "      question: String containing the user's question.\n",
        "\n",
        "  Returns:\n",
        "      str: The prompt for the db_agent.\n",
        "  \"\"\"\n",
        "\n",
        "  # Get the explanation for the question\n",
        "  explanation = \"The SQL query calculates the number of clinical trials conducted by Asian biotech companies in the oncology department that were successful but not yet approved by the FDA between 2017 and 2020, excluding trials from South Korea, by using the COUNT function to count the number of rows in the clinical_trials table where the department is Oncology, the trial_status is Successful, the fda_approval_date is NULL (indicating that the trial has not yet been approved), the company_location is not South Korea, and the fda_approval_date is between 2017-01-01 and 2020-12-31.\"\n",
        "\n",
        "  # Tạo lời nhắc\n",
        "  prompt = f\"\"\"\n",
        "  Hãy sử dụng thông tin sau để trả lời câu hỏi của tôi:\n",
        "\n",
        "  {explanation}\n",
        "\n",
        "  Câu hỏi của tôi là:\n",
        "  {question}\n",
        "  \"\"\"\n",
        "\n",
        "  return prompt\n",
        "\n",
        "# Example usage\n",
        "question = \"Identify the number of clinical trials conducted by Asian biotech companies in the oncology department that were successful but not yet approved by the FDA between 2017 and 2020, excluding trials from South Korea.?\"\n",
        "prompt = prompt_with_explanation(df, question)\n",
        "\n",
        "result = db_agent.run(prompt)\n",
        "print(f\"Question: {question}\")\n",
        "print(f\"Answer: {result}\")"
      ]
    },
    {
      "cell_type": "code",
      "execution_count": null,
      "metadata": {
        "colab": {
          "base_uri": "https://localhost:8080/",
          "height": 567
        },
        "id": "w2DgMjLd0Ci4",
        "outputId": "b176349b-016a-4115-fa40-4a2205e1d59f"
      },
      "outputs": [
        {
          "output_type": "stream",
          "name": "stdout",
          "text": [
            "\n",
            "\n",
            "\u001b[1m> Entering new SQLDatabaseChain chain...\u001b[0m\n",
            "Kết quả của câu lệnh SELECT SUM(revenue) FROM Revenue WHERE restaurant_id = 11 AND EXTRACT(QUARTER FROM DATE '2019-01-01' + INTERVAL (quarter - 1) * 3 MONTH) = 2 AND EXTRACT(YEAR FROM DATE '2019-01-01' + INTERVAL (quarter - 1) * 3 MONTH) = 2019;\n",
            "SQLQuery:\u001b[32;1m\u001b[1;3mSELECT SUM(revenue) FROM Revenue WHERE restaurant_id = 11 AND EXTRACT(QUARTER FROM DATE '2019-01-01' + INTERVAL (quarter - 1) * 3 MONTH) = 2 AND EXTRACT(YEAR FROM DATE '2019-01-01' + INTERVAL (quarter - 1) * 3 MONTH) = 2019;\u001b[0m"
          ]
        },
        {
          "output_type": "error",
          "ename": "OperationalError",
          "evalue": "(sqlite3.OperationalError) near \"FROM\": syntax error\n[SQL: SELECT SUM(revenue) FROM Revenue WHERE restaurant_id = 11 AND EXTRACT(QUARTER FROM DATE '2019-01-01' + INTERVAL (quarter - 1) * 3 MONTH) = 2 AND EXTRACT(YEAR FROM DATE '2019-01-01' + INTERVAL (quarter - 1) * 3 MONTH) = 2019;]\n(Background on this error at: https://sqlalche.me/e/20/e3q8)",
          "traceback": [
            "\u001b[0;31m---------------------------------------------------------------------------\u001b[0m",
            "\u001b[0;31mOperationalError\u001b[0m                          Traceback (most recent call last)",
            "\u001b[0;32m/usr/local/lib/python3.10/dist-packages/sqlalchemy/engine/base.py\u001b[0m in \u001b[0;36m_exec_single_context\u001b[0;34m(self, dialect, context, statement, parameters)\u001b[0m\n\u001b[1;32m   1966\u001b[0m                 \u001b[0;32mif\u001b[0m \u001b[0;32mnot\u001b[0m \u001b[0mevt_handled\u001b[0m\u001b[0;34m:\u001b[0m\u001b[0;34m\u001b[0m\u001b[0;34m\u001b[0m\u001b[0m\n\u001b[0;32m-> 1967\u001b[0;31m                     self.dialect.do_execute(\n\u001b[0m\u001b[1;32m   1968\u001b[0m                         \u001b[0mcursor\u001b[0m\u001b[0;34m,\u001b[0m \u001b[0mstr_statement\u001b[0m\u001b[0;34m,\u001b[0m \u001b[0meffective_parameters\u001b[0m\u001b[0;34m,\u001b[0m \u001b[0mcontext\u001b[0m\u001b[0;34m\u001b[0m\u001b[0;34m\u001b[0m\u001b[0m\n",
            "\u001b[0;32m/usr/local/lib/python3.10/dist-packages/sqlalchemy/engine/default.py\u001b[0m in \u001b[0;36mdo_execute\u001b[0;34m(self, cursor, statement, parameters, context)\u001b[0m\n\u001b[1;32m    923\u001b[0m     \u001b[0;32mdef\u001b[0m \u001b[0mdo_execute\u001b[0m\u001b[0;34m(\u001b[0m\u001b[0mself\u001b[0m\u001b[0;34m,\u001b[0m \u001b[0mcursor\u001b[0m\u001b[0;34m,\u001b[0m \u001b[0mstatement\u001b[0m\u001b[0;34m,\u001b[0m \u001b[0mparameters\u001b[0m\u001b[0;34m,\u001b[0m \u001b[0mcontext\u001b[0m\u001b[0;34m=\u001b[0m\u001b[0;32mNone\u001b[0m\u001b[0;34m)\u001b[0m\u001b[0;34m:\u001b[0m\u001b[0;34m\u001b[0m\u001b[0;34m\u001b[0m\u001b[0m\n\u001b[0;32m--> 924\u001b[0;31m         \u001b[0mcursor\u001b[0m\u001b[0;34m.\u001b[0m\u001b[0mexecute\u001b[0m\u001b[0;34m(\u001b[0m\u001b[0mstatement\u001b[0m\u001b[0;34m,\u001b[0m \u001b[0mparameters\u001b[0m\u001b[0;34m)\u001b[0m\u001b[0;34m\u001b[0m\u001b[0;34m\u001b[0m\u001b[0m\n\u001b[0m\u001b[1;32m    925\u001b[0m \u001b[0;34m\u001b[0m\u001b[0m\n",
            "\u001b[0;31mOperationalError\u001b[0m: near \"FROM\": syntax error",
            "\nThe above exception was the direct cause of the following exception:\n",
            "\u001b[0;31mOperationalError\u001b[0m                          Traceback (most recent call last)",
            "\u001b[0;32m<ipython-input-40-58f36209f960>\u001b[0m in \u001b[0;36m<cell line: 1>\u001b[0;34m()\u001b[0m\n\u001b[0;32m----> 1\u001b[0;31m \u001b[0mdb_agent\u001b[0m\u001b[0;34m.\u001b[0m\u001b[0mrun\u001b[0m\u001b[0;34m(\u001b[0m\u001b[0;34m\"Kết quả của câu lệnh SELECT SUM(revenue) FROM Revenue WHERE restaurant_id = 11 AND EXTRACT(QUARTER FROM DATE '2019-01-01' + INTERVAL (quarter - 1) * 3 MONTH) = 2 AND EXTRACT(YEAR FROM DATE '2019-01-01' + INTERVAL (quarter - 1) * 3 MONTH) = 2019;\"\u001b[0m\u001b[0;34m)\u001b[0m\u001b[0;34m\u001b[0m\u001b[0;34m\u001b[0m\u001b[0m\n\u001b[0m",
            "\u001b[0;32m/usr/local/lib/python3.10/dist-packages/langchain_core/_api/deprecation.py\u001b[0m in \u001b[0;36mwarning_emitting_wrapper\u001b[0;34m(*args, **kwargs)\u001b[0m\n\u001b[1;32m    146\u001b[0m                 \u001b[0mwarned\u001b[0m \u001b[0;34m=\u001b[0m \u001b[0;32mTrue\u001b[0m\u001b[0;34m\u001b[0m\u001b[0;34m\u001b[0m\u001b[0m\n\u001b[1;32m    147\u001b[0m                 \u001b[0memit_warning\u001b[0m\u001b[0;34m(\u001b[0m\u001b[0;34m)\u001b[0m\u001b[0;34m\u001b[0m\u001b[0;34m\u001b[0m\u001b[0m\n\u001b[0;32m--> 148\u001b[0;31m             \u001b[0;32mreturn\u001b[0m \u001b[0mwrapped\u001b[0m\u001b[0;34m(\u001b[0m\u001b[0;34m*\u001b[0m\u001b[0margs\u001b[0m\u001b[0;34m,\u001b[0m \u001b[0;34m**\u001b[0m\u001b[0mkwargs\u001b[0m\u001b[0;34m)\u001b[0m\u001b[0;34m\u001b[0m\u001b[0;34m\u001b[0m\u001b[0m\n\u001b[0m\u001b[1;32m    149\u001b[0m \u001b[0;34m\u001b[0m\u001b[0m\n\u001b[1;32m    150\u001b[0m         \u001b[0;32masync\u001b[0m \u001b[0;32mdef\u001b[0m \u001b[0mawarning_emitting_wrapper\u001b[0m\u001b[0;34m(\u001b[0m\u001b[0;34m*\u001b[0m\u001b[0margs\u001b[0m\u001b[0;34m:\u001b[0m \u001b[0mAny\u001b[0m\u001b[0;34m,\u001b[0m \u001b[0;34m**\u001b[0m\u001b[0mkwargs\u001b[0m\u001b[0;34m:\u001b[0m \u001b[0mAny\u001b[0m\u001b[0;34m)\u001b[0m \u001b[0;34m->\u001b[0m \u001b[0mAny\u001b[0m\u001b[0;34m:\u001b[0m\u001b[0;34m\u001b[0m\u001b[0;34m\u001b[0m\u001b[0m\n",
            "\u001b[0;32m/usr/local/lib/python3.10/dist-packages/langchain/chains/base.py\u001b[0m in \u001b[0;36mrun\u001b[0;34m(self, callbacks, tags, metadata, *args, **kwargs)\u001b[0m\n\u001b[1;32m    598\u001b[0m             \u001b[0;32mif\u001b[0m \u001b[0mlen\u001b[0m\u001b[0;34m(\u001b[0m\u001b[0margs\u001b[0m\u001b[0;34m)\u001b[0m \u001b[0;34m!=\u001b[0m \u001b[0;36m1\u001b[0m\u001b[0;34m:\u001b[0m\u001b[0;34m\u001b[0m\u001b[0;34m\u001b[0m\u001b[0m\n\u001b[1;32m    599\u001b[0m                 \u001b[0;32mraise\u001b[0m \u001b[0mValueError\u001b[0m\u001b[0;34m(\u001b[0m\u001b[0;34m\"`run` supports only one positional argument.\"\u001b[0m\u001b[0;34m)\u001b[0m\u001b[0;34m\u001b[0m\u001b[0;34m\u001b[0m\u001b[0m\n\u001b[0;32m--> 600\u001b[0;31m             return self(args[0], callbacks=callbacks, tags=tags, metadata=metadata)[\n\u001b[0m\u001b[1;32m    601\u001b[0m                 \u001b[0m_output_key\u001b[0m\u001b[0;34m\u001b[0m\u001b[0;34m\u001b[0m\u001b[0m\n\u001b[1;32m    602\u001b[0m             ]\n",
            "\u001b[0;32m/usr/local/lib/python3.10/dist-packages/langchain_core/_api/deprecation.py\u001b[0m in \u001b[0;36mwarning_emitting_wrapper\u001b[0;34m(*args, **kwargs)\u001b[0m\n\u001b[1;32m    146\u001b[0m                 \u001b[0mwarned\u001b[0m \u001b[0;34m=\u001b[0m \u001b[0;32mTrue\u001b[0m\u001b[0;34m\u001b[0m\u001b[0;34m\u001b[0m\u001b[0m\n\u001b[1;32m    147\u001b[0m                 \u001b[0memit_warning\u001b[0m\u001b[0;34m(\u001b[0m\u001b[0;34m)\u001b[0m\u001b[0;34m\u001b[0m\u001b[0;34m\u001b[0m\u001b[0m\n\u001b[0;32m--> 148\u001b[0;31m             \u001b[0;32mreturn\u001b[0m \u001b[0mwrapped\u001b[0m\u001b[0;34m(\u001b[0m\u001b[0;34m*\u001b[0m\u001b[0margs\u001b[0m\u001b[0;34m,\u001b[0m \u001b[0;34m**\u001b[0m\u001b[0mkwargs\u001b[0m\u001b[0;34m)\u001b[0m\u001b[0;34m\u001b[0m\u001b[0;34m\u001b[0m\u001b[0m\n\u001b[0m\u001b[1;32m    149\u001b[0m \u001b[0;34m\u001b[0m\u001b[0m\n\u001b[1;32m    150\u001b[0m         \u001b[0;32masync\u001b[0m \u001b[0;32mdef\u001b[0m \u001b[0mawarning_emitting_wrapper\u001b[0m\u001b[0;34m(\u001b[0m\u001b[0;34m*\u001b[0m\u001b[0margs\u001b[0m\u001b[0;34m:\u001b[0m \u001b[0mAny\u001b[0m\u001b[0;34m,\u001b[0m \u001b[0;34m**\u001b[0m\u001b[0mkwargs\u001b[0m\u001b[0;34m:\u001b[0m \u001b[0mAny\u001b[0m\u001b[0;34m)\u001b[0m \u001b[0;34m->\u001b[0m \u001b[0mAny\u001b[0m\u001b[0;34m:\u001b[0m\u001b[0;34m\u001b[0m\u001b[0;34m\u001b[0m\u001b[0m\n",
            "\u001b[0;32m/usr/local/lib/python3.10/dist-packages/langchain/chains/base.py\u001b[0m in \u001b[0;36m__call__\u001b[0;34m(self, inputs, return_only_outputs, callbacks, tags, metadata, run_name, include_run_info)\u001b[0m\n\u001b[1;32m    381\u001b[0m         }\n\u001b[1;32m    382\u001b[0m \u001b[0;34m\u001b[0m\u001b[0m\n\u001b[0;32m--> 383\u001b[0;31m         return self.invoke(\n\u001b[0m\u001b[1;32m    384\u001b[0m             \u001b[0minputs\u001b[0m\u001b[0;34m,\u001b[0m\u001b[0;34m\u001b[0m\u001b[0;34m\u001b[0m\u001b[0m\n\u001b[1;32m    385\u001b[0m             \u001b[0mcast\u001b[0m\u001b[0;34m(\u001b[0m\u001b[0mRunnableConfig\u001b[0m\u001b[0;34m,\u001b[0m \u001b[0;34m{\u001b[0m\u001b[0mk\u001b[0m\u001b[0;34m:\u001b[0m \u001b[0mv\u001b[0m \u001b[0;32mfor\u001b[0m \u001b[0mk\u001b[0m\u001b[0;34m,\u001b[0m \u001b[0mv\u001b[0m \u001b[0;32min\u001b[0m \u001b[0mconfig\u001b[0m\u001b[0;34m.\u001b[0m\u001b[0mitems\u001b[0m\u001b[0;34m(\u001b[0m\u001b[0;34m)\u001b[0m \u001b[0;32mif\u001b[0m \u001b[0mv\u001b[0m \u001b[0;32mis\u001b[0m \u001b[0;32mnot\u001b[0m \u001b[0;32mNone\u001b[0m\u001b[0;34m}\u001b[0m\u001b[0;34m)\u001b[0m\u001b[0;34m,\u001b[0m\u001b[0;34m\u001b[0m\u001b[0;34m\u001b[0m\u001b[0m\n",
            "\u001b[0;32m/usr/local/lib/python3.10/dist-packages/langchain/chains/base.py\u001b[0m in \u001b[0;36minvoke\u001b[0;34m(self, input, config, **kwargs)\u001b[0m\n\u001b[1;32m    164\u001b[0m         \u001b[0;32mexcept\u001b[0m \u001b[0mBaseException\u001b[0m \u001b[0;32mas\u001b[0m \u001b[0me\u001b[0m\u001b[0;34m:\u001b[0m\u001b[0;34m\u001b[0m\u001b[0;34m\u001b[0m\u001b[0m\n\u001b[1;32m    165\u001b[0m             \u001b[0mrun_manager\u001b[0m\u001b[0;34m.\u001b[0m\u001b[0mon_chain_error\u001b[0m\u001b[0;34m(\u001b[0m\u001b[0me\u001b[0m\u001b[0;34m)\u001b[0m\u001b[0;34m\u001b[0m\u001b[0;34m\u001b[0m\u001b[0m\n\u001b[0;32m--> 166\u001b[0;31m             \u001b[0;32mraise\u001b[0m \u001b[0me\u001b[0m\u001b[0;34m\u001b[0m\u001b[0;34m\u001b[0m\u001b[0m\n\u001b[0m\u001b[1;32m    167\u001b[0m         \u001b[0mrun_manager\u001b[0m\u001b[0;34m.\u001b[0m\u001b[0mon_chain_end\u001b[0m\u001b[0;34m(\u001b[0m\u001b[0moutputs\u001b[0m\u001b[0;34m)\u001b[0m\u001b[0;34m\u001b[0m\u001b[0;34m\u001b[0m\u001b[0m\n\u001b[1;32m    168\u001b[0m \u001b[0;34m\u001b[0m\u001b[0m\n",
            "\u001b[0;32m/usr/local/lib/python3.10/dist-packages/langchain/chains/base.py\u001b[0m in \u001b[0;36minvoke\u001b[0;34m(self, input, config, **kwargs)\u001b[0m\n\u001b[1;32m    154\u001b[0m             \u001b[0mself\u001b[0m\u001b[0;34m.\u001b[0m\u001b[0m_validate_inputs\u001b[0m\u001b[0;34m(\u001b[0m\u001b[0minputs\u001b[0m\u001b[0;34m)\u001b[0m\u001b[0;34m\u001b[0m\u001b[0;34m\u001b[0m\u001b[0m\n\u001b[1;32m    155\u001b[0m             outputs = (\n\u001b[0;32m--> 156\u001b[0;31m                 \u001b[0mself\u001b[0m\u001b[0;34m.\u001b[0m\u001b[0m_call\u001b[0m\u001b[0;34m(\u001b[0m\u001b[0minputs\u001b[0m\u001b[0;34m,\u001b[0m \u001b[0mrun_manager\u001b[0m\u001b[0;34m=\u001b[0m\u001b[0mrun_manager\u001b[0m\u001b[0;34m)\u001b[0m\u001b[0;34m\u001b[0m\u001b[0;34m\u001b[0m\u001b[0m\n\u001b[0m\u001b[1;32m    157\u001b[0m                 \u001b[0;32mif\u001b[0m \u001b[0mnew_arg_supported\u001b[0m\u001b[0;34m\u001b[0m\u001b[0;34m\u001b[0m\u001b[0m\n\u001b[1;32m    158\u001b[0m                 \u001b[0;32melse\u001b[0m \u001b[0mself\u001b[0m\u001b[0;34m.\u001b[0m\u001b[0m_call\u001b[0m\u001b[0;34m(\u001b[0m\u001b[0minputs\u001b[0m\u001b[0;34m)\u001b[0m\u001b[0;34m\u001b[0m\u001b[0;34m\u001b[0m\u001b[0m\n",
            "\u001b[0;32m/usr/local/lib/python3.10/dist-packages/langchain_experimental/sql/base.py\u001b[0m in \u001b[0;36m_call\u001b[0;34m(self, inputs, run_manager)\u001b[0m\n\u001b[1;32m    202\u001b[0m             \u001b[0;31m# improvement of few shot prompt seeds\u001b[0m\u001b[0;34m\u001b[0m\u001b[0;34m\u001b[0m\u001b[0m\n\u001b[1;32m    203\u001b[0m             \u001b[0mexc\u001b[0m\u001b[0;34m.\u001b[0m\u001b[0mintermediate_steps\u001b[0m \u001b[0;34m=\u001b[0m \u001b[0mintermediate_steps\u001b[0m  \u001b[0;31m# type: ignore\u001b[0m\u001b[0;34m\u001b[0m\u001b[0;34m\u001b[0m\u001b[0m\n\u001b[0;32m--> 204\u001b[0;31m             \u001b[0;32mraise\u001b[0m \u001b[0mexc\u001b[0m\u001b[0;34m\u001b[0m\u001b[0;34m\u001b[0m\u001b[0m\n\u001b[0m\u001b[1;32m    205\u001b[0m \u001b[0;34m\u001b[0m\u001b[0m\n\u001b[1;32m    206\u001b[0m     \u001b[0;34m@\u001b[0m\u001b[0mproperty\u001b[0m\u001b[0;34m\u001b[0m\u001b[0;34m\u001b[0m\u001b[0m\n",
            "\u001b[0;32m/usr/local/lib/python3.10/dist-packages/langchain_experimental/sql/base.py\u001b[0m in \u001b[0;36m_call\u001b[0;34m(self, inputs, run_manager)\u001b[0m\n\u001b[1;32m    147\u001b[0m                 \u001b[0;32mif\u001b[0m \u001b[0mSQL_RESULT\u001b[0m \u001b[0;32min\u001b[0m \u001b[0msql_cmd\u001b[0m\u001b[0;34m:\u001b[0m\u001b[0;34m\u001b[0m\u001b[0;34m\u001b[0m\u001b[0m\n\u001b[1;32m    148\u001b[0m                     \u001b[0msql_cmd\u001b[0m \u001b[0;34m=\u001b[0m \u001b[0msql_cmd\u001b[0m\u001b[0;34m.\u001b[0m\u001b[0msplit\u001b[0m\u001b[0;34m(\u001b[0m\u001b[0mSQL_RESULT\u001b[0m\u001b[0;34m)\u001b[0m\u001b[0;34m[\u001b[0m\u001b[0;36m0\u001b[0m\u001b[0;34m]\u001b[0m\u001b[0;34m.\u001b[0m\u001b[0mstrip\u001b[0m\u001b[0;34m(\u001b[0m\u001b[0;34m)\u001b[0m\u001b[0;34m\u001b[0m\u001b[0;34m\u001b[0m\u001b[0m\n\u001b[0;32m--> 149\u001b[0;31m                 \u001b[0mresult\u001b[0m \u001b[0;34m=\u001b[0m \u001b[0mself\u001b[0m\u001b[0;34m.\u001b[0m\u001b[0mdatabase\u001b[0m\u001b[0;34m.\u001b[0m\u001b[0mrun\u001b[0m\u001b[0;34m(\u001b[0m\u001b[0msql_cmd\u001b[0m\u001b[0;34m)\u001b[0m\u001b[0;34m\u001b[0m\u001b[0;34m\u001b[0m\u001b[0m\n\u001b[0m\u001b[1;32m    150\u001b[0m                 \u001b[0mintermediate_steps\u001b[0m\u001b[0;34m.\u001b[0m\u001b[0mappend\u001b[0m\u001b[0;34m(\u001b[0m\u001b[0mstr\u001b[0m\u001b[0;34m(\u001b[0m\u001b[0mresult\u001b[0m\u001b[0;34m)\u001b[0m\u001b[0;34m)\u001b[0m  \u001b[0;31m# output: sql exec\u001b[0m\u001b[0;34m\u001b[0m\u001b[0;34m\u001b[0m\u001b[0m\n\u001b[1;32m    151\u001b[0m             \u001b[0;32melse\u001b[0m\u001b[0;34m:\u001b[0m\u001b[0;34m\u001b[0m\u001b[0;34m\u001b[0m\u001b[0m\n",
            "\u001b[0;32m/usr/local/lib/python3.10/dist-packages/langchain_community/utilities/sql_database.py\u001b[0m in \u001b[0;36mrun\u001b[0;34m(self, command, fetch, include_columns, parameters, execution_options)\u001b[0m\n\u001b[1;32m    496\u001b[0m         \u001b[0mIf\u001b[0m \u001b[0mthe\u001b[0m \u001b[0mstatement\u001b[0m \u001b[0mreturns\u001b[0m \u001b[0mno\u001b[0m \u001b[0mrows\u001b[0m\u001b[0;34m,\u001b[0m \u001b[0man\u001b[0m \u001b[0mempty\u001b[0m \u001b[0mstring\u001b[0m \u001b[0;32mis\u001b[0m \u001b[0mreturned\u001b[0m\u001b[0;34m.\u001b[0m\u001b[0;34m\u001b[0m\u001b[0;34m\u001b[0m\u001b[0m\n\u001b[1;32m    497\u001b[0m         \"\"\"\n\u001b[0;32m--> 498\u001b[0;31m         result = self._execute(\n\u001b[0m\u001b[1;32m    499\u001b[0m             \u001b[0mcommand\u001b[0m\u001b[0;34m,\u001b[0m \u001b[0mfetch\u001b[0m\u001b[0;34m,\u001b[0m \u001b[0mparameters\u001b[0m\u001b[0;34m=\u001b[0m\u001b[0mparameters\u001b[0m\u001b[0;34m,\u001b[0m \u001b[0mexecution_options\u001b[0m\u001b[0;34m=\u001b[0m\u001b[0mexecution_options\u001b[0m\u001b[0;34m\u001b[0m\u001b[0;34m\u001b[0m\u001b[0m\n\u001b[1;32m    500\u001b[0m         )\n",
            "\u001b[0;32m/usr/local/lib/python3.10/dist-packages/langchain_community/utilities/sql_database.py\u001b[0m in \u001b[0;36m_execute\u001b[0;34m(self, command, fetch, parameters, execution_options)\u001b[0m\n\u001b[1;32m    461\u001b[0m             \u001b[0;32melse\u001b[0m\u001b[0;34m:\u001b[0m\u001b[0;34m\u001b[0m\u001b[0;34m\u001b[0m\u001b[0m\n\u001b[1;32m    462\u001b[0m                 \u001b[0;32mraise\u001b[0m \u001b[0mTypeError\u001b[0m\u001b[0;34m(\u001b[0m\u001b[0;34mf\"Query expression has unknown type: {type(command)}\"\u001b[0m\u001b[0;34m)\u001b[0m\u001b[0;34m\u001b[0m\u001b[0;34m\u001b[0m\u001b[0m\n\u001b[0;32m--> 463\u001b[0;31m             cursor = connection.execute(\n\u001b[0m\u001b[1;32m    464\u001b[0m                 \u001b[0mcommand\u001b[0m\u001b[0;34m,\u001b[0m\u001b[0;34m\u001b[0m\u001b[0;34m\u001b[0m\u001b[0m\n\u001b[1;32m    465\u001b[0m                 \u001b[0mparameters\u001b[0m\u001b[0;34m,\u001b[0m\u001b[0;34m\u001b[0m\u001b[0;34m\u001b[0m\u001b[0m\n",
            "\u001b[0;32m/usr/local/lib/python3.10/dist-packages/sqlalchemy/engine/base.py\u001b[0m in \u001b[0;36mexecute\u001b[0;34m(self, statement, parameters, execution_options)\u001b[0m\n\u001b[1;32m   1416\u001b[0m             \u001b[0;32mraise\u001b[0m \u001b[0mexc\u001b[0m\u001b[0;34m.\u001b[0m\u001b[0mObjectNotExecutableError\u001b[0m\u001b[0;34m(\u001b[0m\u001b[0mstatement\u001b[0m\u001b[0;34m)\u001b[0m \u001b[0;32mfrom\u001b[0m \u001b[0merr\u001b[0m\u001b[0;34m\u001b[0m\u001b[0;34m\u001b[0m\u001b[0m\n\u001b[1;32m   1417\u001b[0m         \u001b[0;32melse\u001b[0m\u001b[0;34m:\u001b[0m\u001b[0;34m\u001b[0m\u001b[0;34m\u001b[0m\u001b[0m\n\u001b[0;32m-> 1418\u001b[0;31m             return meth(\n\u001b[0m\u001b[1;32m   1419\u001b[0m                 \u001b[0mself\u001b[0m\u001b[0;34m,\u001b[0m\u001b[0;34m\u001b[0m\u001b[0;34m\u001b[0m\u001b[0m\n\u001b[1;32m   1420\u001b[0m                 \u001b[0mdistilled_parameters\u001b[0m\u001b[0;34m,\u001b[0m\u001b[0;34m\u001b[0m\u001b[0;34m\u001b[0m\u001b[0m\n",
            "\u001b[0;32m/usr/local/lib/python3.10/dist-packages/sqlalchemy/sql/elements.py\u001b[0m in \u001b[0;36m_execute_on_connection\u001b[0;34m(self, connection, distilled_params, execution_options)\u001b[0m\n\u001b[1;32m    513\u001b[0m             \u001b[0;32mif\u001b[0m \u001b[0mTYPE_CHECKING\u001b[0m\u001b[0;34m:\u001b[0m\u001b[0;34m\u001b[0m\u001b[0;34m\u001b[0m\u001b[0m\n\u001b[1;32m    514\u001b[0m                 \u001b[0;32massert\u001b[0m \u001b[0misinstance\u001b[0m\u001b[0;34m(\u001b[0m\u001b[0mself\u001b[0m\u001b[0;34m,\u001b[0m \u001b[0mExecutable\u001b[0m\u001b[0;34m)\u001b[0m\u001b[0;34m\u001b[0m\u001b[0;34m\u001b[0m\u001b[0m\n\u001b[0;32m--> 515\u001b[0;31m             return connection._execute_clauseelement(\n\u001b[0m\u001b[1;32m    516\u001b[0m                 \u001b[0mself\u001b[0m\u001b[0;34m,\u001b[0m \u001b[0mdistilled_params\u001b[0m\u001b[0;34m,\u001b[0m \u001b[0mexecution_options\u001b[0m\u001b[0;34m\u001b[0m\u001b[0;34m\u001b[0m\u001b[0m\n\u001b[1;32m    517\u001b[0m             )\n",
            "\u001b[0;32m/usr/local/lib/python3.10/dist-packages/sqlalchemy/engine/base.py\u001b[0m in \u001b[0;36m_execute_clauseelement\u001b[0;34m(self, elem, distilled_parameters, execution_options)\u001b[0m\n\u001b[1;32m   1638\u001b[0m             \u001b[0mlinting\u001b[0m\u001b[0;34m=\u001b[0m\u001b[0mself\u001b[0m\u001b[0;34m.\u001b[0m\u001b[0mdialect\u001b[0m\u001b[0;34m.\u001b[0m\u001b[0mcompiler_linting\u001b[0m \u001b[0;34m|\u001b[0m \u001b[0mcompiler\u001b[0m\u001b[0;34m.\u001b[0m\u001b[0mWARN_LINTING\u001b[0m\u001b[0;34m,\u001b[0m\u001b[0;34m\u001b[0m\u001b[0;34m\u001b[0m\u001b[0m\n\u001b[1;32m   1639\u001b[0m         )\n\u001b[0;32m-> 1640\u001b[0;31m         ret = self._execute_context(\n\u001b[0m\u001b[1;32m   1641\u001b[0m             \u001b[0mdialect\u001b[0m\u001b[0;34m,\u001b[0m\u001b[0;34m\u001b[0m\u001b[0;34m\u001b[0m\u001b[0m\n\u001b[1;32m   1642\u001b[0m             \u001b[0mdialect\u001b[0m\u001b[0;34m.\u001b[0m\u001b[0mexecution_ctx_cls\u001b[0m\u001b[0;34m.\u001b[0m\u001b[0m_init_compiled\u001b[0m\u001b[0;34m,\u001b[0m\u001b[0;34m\u001b[0m\u001b[0;34m\u001b[0m\u001b[0m\n",
            "\u001b[0;32m/usr/local/lib/python3.10/dist-packages/sqlalchemy/engine/base.py\u001b[0m in \u001b[0;36m_execute_context\u001b[0;34m(self, dialect, constructor, statement, parameters, execution_options, *args, **kw)\u001b[0m\n\u001b[1;32m   1844\u001b[0m             \u001b[0;32mreturn\u001b[0m \u001b[0mself\u001b[0m\u001b[0;34m.\u001b[0m\u001b[0m_exec_insertmany_context\u001b[0m\u001b[0;34m(\u001b[0m\u001b[0mdialect\u001b[0m\u001b[0;34m,\u001b[0m \u001b[0mcontext\u001b[0m\u001b[0;34m)\u001b[0m\u001b[0;34m\u001b[0m\u001b[0;34m\u001b[0m\u001b[0m\n\u001b[1;32m   1845\u001b[0m         \u001b[0;32melse\u001b[0m\u001b[0;34m:\u001b[0m\u001b[0;34m\u001b[0m\u001b[0;34m\u001b[0m\u001b[0m\n\u001b[0;32m-> 1846\u001b[0;31m             return self._exec_single_context(\n\u001b[0m\u001b[1;32m   1847\u001b[0m                 \u001b[0mdialect\u001b[0m\u001b[0;34m,\u001b[0m \u001b[0mcontext\u001b[0m\u001b[0;34m,\u001b[0m \u001b[0mstatement\u001b[0m\u001b[0;34m,\u001b[0m \u001b[0mparameters\u001b[0m\u001b[0;34m\u001b[0m\u001b[0;34m\u001b[0m\u001b[0m\n\u001b[1;32m   1848\u001b[0m             )\n",
            "\u001b[0;32m/usr/local/lib/python3.10/dist-packages/sqlalchemy/engine/base.py\u001b[0m in \u001b[0;36m_exec_single_context\u001b[0;34m(self, dialect, context, statement, parameters)\u001b[0m\n\u001b[1;32m   1984\u001b[0m \u001b[0;34m\u001b[0m\u001b[0m\n\u001b[1;32m   1985\u001b[0m         \u001b[0;32mexcept\u001b[0m \u001b[0mBaseException\u001b[0m \u001b[0;32mas\u001b[0m \u001b[0me\u001b[0m\u001b[0;34m:\u001b[0m\u001b[0;34m\u001b[0m\u001b[0;34m\u001b[0m\u001b[0m\n\u001b[0;32m-> 1986\u001b[0;31m             self._handle_dbapi_exception(\n\u001b[0m\u001b[1;32m   1987\u001b[0m                 \u001b[0me\u001b[0m\u001b[0;34m,\u001b[0m \u001b[0mstr_statement\u001b[0m\u001b[0;34m,\u001b[0m \u001b[0meffective_parameters\u001b[0m\u001b[0;34m,\u001b[0m \u001b[0mcursor\u001b[0m\u001b[0;34m,\u001b[0m \u001b[0mcontext\u001b[0m\u001b[0;34m\u001b[0m\u001b[0;34m\u001b[0m\u001b[0m\n\u001b[1;32m   1988\u001b[0m             )\n",
            "\u001b[0;32m/usr/local/lib/python3.10/dist-packages/sqlalchemy/engine/base.py\u001b[0m in \u001b[0;36m_handle_dbapi_exception\u001b[0;34m(self, e, statement, parameters, cursor, context, is_sub_exec)\u001b[0m\n\u001b[1;32m   2351\u001b[0m             \u001b[0;32melif\u001b[0m \u001b[0mshould_wrap\u001b[0m\u001b[0;34m:\u001b[0m\u001b[0;34m\u001b[0m\u001b[0;34m\u001b[0m\u001b[0m\n\u001b[1;32m   2352\u001b[0m                 \u001b[0;32massert\u001b[0m \u001b[0msqlalchemy_exception\u001b[0m \u001b[0;32mis\u001b[0m \u001b[0;32mnot\u001b[0m \u001b[0;32mNone\u001b[0m\u001b[0;34m\u001b[0m\u001b[0;34m\u001b[0m\u001b[0m\n\u001b[0;32m-> 2353\u001b[0;31m                 \u001b[0;32mraise\u001b[0m \u001b[0msqlalchemy_exception\u001b[0m\u001b[0;34m.\u001b[0m\u001b[0mwith_traceback\u001b[0m\u001b[0;34m(\u001b[0m\u001b[0mexc_info\u001b[0m\u001b[0;34m[\u001b[0m\u001b[0;36m2\u001b[0m\u001b[0;34m]\u001b[0m\u001b[0;34m)\u001b[0m \u001b[0;32mfrom\u001b[0m \u001b[0me\u001b[0m\u001b[0;34m\u001b[0m\u001b[0;34m\u001b[0m\u001b[0m\n\u001b[0m\u001b[1;32m   2354\u001b[0m             \u001b[0;32melse\u001b[0m\u001b[0;34m:\u001b[0m\u001b[0;34m\u001b[0m\u001b[0;34m\u001b[0m\u001b[0m\n\u001b[1;32m   2355\u001b[0m                 \u001b[0;32massert\u001b[0m \u001b[0mexc_info\u001b[0m\u001b[0;34m[\u001b[0m\u001b[0;36m1\u001b[0m\u001b[0;34m]\u001b[0m \u001b[0;32mis\u001b[0m \u001b[0;32mnot\u001b[0m \u001b[0;32mNone\u001b[0m\u001b[0;34m\u001b[0m\u001b[0;34m\u001b[0m\u001b[0m\n",
            "\u001b[0;32m/usr/local/lib/python3.10/dist-packages/sqlalchemy/engine/base.py\u001b[0m in \u001b[0;36m_exec_single_context\u001b[0;34m(self, dialect, context, statement, parameters)\u001b[0m\n\u001b[1;32m   1965\u001b[0m                             \u001b[0;32mbreak\u001b[0m\u001b[0;34m\u001b[0m\u001b[0;34m\u001b[0m\u001b[0m\n\u001b[1;32m   1966\u001b[0m                 \u001b[0;32mif\u001b[0m \u001b[0;32mnot\u001b[0m \u001b[0mevt_handled\u001b[0m\u001b[0;34m:\u001b[0m\u001b[0;34m\u001b[0m\u001b[0;34m\u001b[0m\u001b[0m\n\u001b[0;32m-> 1967\u001b[0;31m                     self.dialect.do_execute(\n\u001b[0m\u001b[1;32m   1968\u001b[0m                         \u001b[0mcursor\u001b[0m\u001b[0;34m,\u001b[0m \u001b[0mstr_statement\u001b[0m\u001b[0;34m,\u001b[0m \u001b[0meffective_parameters\u001b[0m\u001b[0;34m,\u001b[0m \u001b[0mcontext\u001b[0m\u001b[0;34m\u001b[0m\u001b[0;34m\u001b[0m\u001b[0m\n\u001b[1;32m   1969\u001b[0m                     )\n",
            "\u001b[0;32m/usr/local/lib/python3.10/dist-packages/sqlalchemy/engine/default.py\u001b[0m in \u001b[0;36mdo_execute\u001b[0;34m(self, cursor, statement, parameters, context)\u001b[0m\n\u001b[1;32m    922\u001b[0m \u001b[0;34m\u001b[0m\u001b[0m\n\u001b[1;32m    923\u001b[0m     \u001b[0;32mdef\u001b[0m \u001b[0mdo_execute\u001b[0m\u001b[0;34m(\u001b[0m\u001b[0mself\u001b[0m\u001b[0;34m,\u001b[0m \u001b[0mcursor\u001b[0m\u001b[0;34m,\u001b[0m \u001b[0mstatement\u001b[0m\u001b[0;34m,\u001b[0m \u001b[0mparameters\u001b[0m\u001b[0;34m,\u001b[0m \u001b[0mcontext\u001b[0m\u001b[0;34m=\u001b[0m\u001b[0;32mNone\u001b[0m\u001b[0;34m)\u001b[0m\u001b[0;34m:\u001b[0m\u001b[0;34m\u001b[0m\u001b[0;34m\u001b[0m\u001b[0m\n\u001b[0;32m--> 924\u001b[0;31m         \u001b[0mcursor\u001b[0m\u001b[0;34m.\u001b[0m\u001b[0mexecute\u001b[0m\u001b[0;34m(\u001b[0m\u001b[0mstatement\u001b[0m\u001b[0;34m,\u001b[0m \u001b[0mparameters\u001b[0m\u001b[0;34m)\u001b[0m\u001b[0;34m\u001b[0m\u001b[0;34m\u001b[0m\u001b[0m\n\u001b[0m\u001b[1;32m    925\u001b[0m \u001b[0;34m\u001b[0m\u001b[0m\n\u001b[1;32m    926\u001b[0m     \u001b[0;32mdef\u001b[0m \u001b[0mdo_execute_no_params\u001b[0m\u001b[0;34m(\u001b[0m\u001b[0mself\u001b[0m\u001b[0;34m,\u001b[0m \u001b[0mcursor\u001b[0m\u001b[0;34m,\u001b[0m \u001b[0mstatement\u001b[0m\u001b[0;34m,\u001b[0m \u001b[0mcontext\u001b[0m\u001b[0;34m=\u001b[0m\u001b[0;32mNone\u001b[0m\u001b[0;34m)\u001b[0m\u001b[0;34m:\u001b[0m\u001b[0;34m\u001b[0m\u001b[0;34m\u001b[0m\u001b[0m\n",
            "\u001b[0;31mOperationalError\u001b[0m: (sqlite3.OperationalError) near \"FROM\": syntax error\n[SQL: SELECT SUM(revenue) FROM Revenue WHERE restaurant_id = 11 AND EXTRACT(QUARTER FROM DATE '2019-01-01' + INTERVAL (quarter - 1) * 3 MONTH) = 2 AND EXTRACT(YEAR FROM DATE '2019-01-01' + INTERVAL (quarter - 1) * 3 MONTH) = 2019;]\n(Background on this error at: https://sqlalche.me/e/20/e3q8)"
          ]
        }
      ],
      "source": [
        "db_agent.run(\"Kết quả của câu lệnh SELECT SUM(revenue) FROM Revenue WHERE restaurant_id = 11 AND EXTRACT(QUARTER FROM DATE '2019-01-01' + INTERVAL (quarter - 1) * 3 MONTH) = 2 AND EXTRACT(YEAR FROM DATE '2019-01-01' + INTERVAL (quarter - 1) * 3 MONTH) = 2019;\")"
      ]
    },
    {
      "cell_type": "code",
      "execution_count": null,
      "metadata": {
        "colab": {
          "base_uri": "https://localhost:8080/"
        },
        "id": "tgd5ZCLkzEKi",
        "outputId": "59013bb9-1bc4-46dd-e377-19071cbdcd84"
      },
      "outputs": [
        {
          "data": {
            "text/plain": [
              "id                                                                           23\n",
              "domain                                                   hospitality technology\n",
              "domain_description            Hotel tech adoption metrics, online travel age...\n",
              "sql_complexity                                                        basic SQL\n",
              "sql_complexity_description             basic SQL with a simple select statement\n",
              "sql_task_type                                           analytics and reporting\n",
              "sql_task_type_description     generating reports, dashboards, and analytical...\n",
              "sql_prompt                    What is the market share of 'Online Travel Age...\n",
              "sql_context                   CREATE TABLE bookings (booking_id INT, hotel_i...\n",
              "sql                           SELECT (SUM(CASE WHEN agency = 'Online Travel ...\n",
              "sql_explanation               This SQL query calculates the market share of ...\n",
              "Name: 22, dtype: object"
            ]
          },
          "execution_count": 56,
          "metadata": {},
          "output_type": "execute_result"
        }
      ],
      "source": [
        "df[df.sql_complexity == 'basic SQL'].iloc[1]"
      ]
    },
    {
      "cell_type": "code",
      "execution_count": null,
      "metadata": {
        "colab": {
          "base_uri": "https://localhost:8080/"
        },
        "id": "sJWMh_khqqe-",
        "outputId": "8019c394-f9bd-40b2-cf39-e429709ef6b1"
      },
      "outputs": [
        {
          "output_type": "stream",
          "name": "stdout",
          "text": [
            "\n",
            "\n",
            "\u001b[1m> Entering new SQLDatabaseChain chain...\u001b[0m\n",
            "Identify the number of clinical trials conducted by Asian biotech companies in the oncology department that were successful but not yet approved by the FDA between 2017 and 2020, excluding trials from South Korea.\n",
            "SQLQuery:\u001b[32;1m\u001b[1;3mSELECT COUNT(*) FROM clinical_trials WHERE company LIKE 'Asian BioTech%' AND department = 'Oncology' AND trial_status = 'Successful' AND fda_approval_date IS NULL AND company_location != 'South Korea' AND fda_approval_date BETWEEN '2017-01-01' AND '2020-12-31'\u001b[0m\n",
            "SQLResult: \u001b[33;1m\u001b[1;3m[(0,)]\u001b[0m\n",
            "Answer:\u001b[32;1m\u001b[1;3m0\u001b[0m\n",
            "\u001b[1m> Finished chain.\u001b[0m\n"
          ]
        },
        {
          "output_type": "execute_result",
          "data": {
            "text/plain": [
              "'0'"
            ],
            "application/vnd.google.colaboratory.intrinsic+json": {
              "type": "string"
            }
          },
          "metadata": {},
          "execution_count": 41
        }
      ],
      "source": [
        "db_agent.run(\"Identify the number of clinical trials conducted by Asian biotech companies in the oncology department that were successful but not yet approved by the FDA between 2017 and 2020, excluding trials from South Korea.\")"
      ]
    },
    {
      "cell_type": "code",
      "execution_count": null,
      "metadata": {
        "colab": {
          "base_uri": "https://localhost:8080/",
          "height": 229
        },
        "id": "CeIt4U4VdSUK",
        "outputId": "c50a00fc-9885-43c6-e31d-2d827770d8e4"
      },
      "outputs": [
        {
          "name": "stderr",
          "output_type": "stream",
          "text": [
            "/usr/local/lib/python3.10/dist-packages/langchain_core/_api/deprecation.py:119: LangChainDeprecationWarning: The method `Chain.run` was deprecated in langchain 0.1.0 and will be removed in 0.3.0. Use invoke instead.\n",
            "  warn_deprecated(\n"
          ]
        },
        {
          "name": "stdout",
          "output_type": "stream",
          "text": [
            "\n",
            "\n",
            "\u001b[1m> Entering new SQLDatabaseChain chain...\u001b[0m\n",
            "How many row are there?\n",
            "SQLQuery:\u001b[32;1m\u001b[1;3mSELECT COUNT(*) AS row_count FROM SystheticTexttoSQL\u001b[0m\n",
            "SQLResult: \u001b[33;1m\u001b[1;3m[(5851,)]\u001b[0m\n",
            "Answer:\u001b[32;1m\u001b[1;3mThere are 5851 rows in the SystheticTexttoSQL table.\u001b[0m\n",
            "\u001b[1m> Finished chain.\u001b[0m\n"
          ]
        },
        {
          "data": {
            "application/vnd.google.colaboratory.intrinsic+json": {
              "type": "string"
            },
            "text/plain": [
              "'There are 5851 rows in the SystheticTexttoSQL table.'"
            ]
          },
          "execution_count": 21,
          "metadata": {},
          "output_type": "execute_result"
        }
      ],
      "source": [
        "db_agent.run(\"How many row are there?\")"
      ]
    },
    {
      "cell_type": "code",
      "source": [
        "answers = df[df.sql_complexity == 'basic SQL'].sql.head(10).tolist()"
      ],
      "metadata": {
        "id": "Fd9U6fTn4609"
      },
      "execution_count": null,
      "outputs": []
    },
    {
      "cell_type": "code",
      "source": [
        "answers"
      ],
      "metadata": {
        "colab": {
          "base_uri": "https://localhost:8080/"
        },
        "id": "WaV4jJ8z4_tP",
        "outputId": "397b0326-b691-4b7d-a6a2-e07982ff204c"
      },
      "execution_count": null,
      "outputs": [
        {
          "output_type": "execute_result",
          "data": {
            "text/plain": [
              "[\"SELECT SUM(TIMESTAMP_DIFF(end_time, start_time, MINUTE)) AS total_playtime_minutes FROM game_sessions WHERE genre = 'Racing' AND EXTRACT(HOUR FROM start_time) BETWEEN 0 AND 23 AND EXTRACT(MINUTE FROM start_time) = 0 AND EXTRACT(SECOND FROM start_time) = 0 AND EXTRACT(HOUR FROM end_time) BETWEEN 0 AND 23 AND EXTRACT(MINUTE FROM end_time) = 0 AND EXTRACT(SECOND FROM end_time) = 0 AND EXTRACT(REGION FROM start_time) = 'Europe';\",\n",
              " \"SELECT (SUM(CASE WHEN agency = 'Online Travel Agency A' THEN revenue ELSE 0 END) / SUM(CASE WHEN agency IN ('Online Travel Agency A', 'Online Travel Agency B') THEN revenue ELSE 0 END)) * 100 as market_share_A, (SUM(CASE WHEN agency = 'Online Travel Agency B' THEN revenue ELSE 0 END) / SUM(CASE WHEN agency IN ('Online Travel Agency A', 'Online Travel Agency B') THEN revenue ELSE 0 END)) * 100 as market_share_B FROM bookings;\",\n",
              " \"INSERT INTO artists (id, name, genre) VALUES (1, 'Natasha Bedingfield', 'Pop'); INSERT INTO albums (id, title, release_year, artist_id) VALUES (1, 'Unwritten', 2004, 1), (2, 'Pocketful of Sunshine', 2008, 1); INSERT INTO tracks (id, title, duration, album_id) VALUES (1, 'These Words', 3.21, 1), (2, 'Unwritten', 4.18, 1), (3, 'Soulmate', 3.29, 2), (4, 'Pocketful of Sunshine', 3.12, 2);\",\n",
              " \"INSERT INTO fans (fan_id, first_name, last_name, dob, signed_up_for_newsletter) VALUES (3, 'Michael', 'Lee', '1995-03-25', true), (4, 'Sophia', 'Park', '2000-06-18', true), (5, 'William', 'Johnson', '2005-11-10', true), (6, 'Olivia', 'Kim', '2007-09-22', true), (7, 'Ethan', 'Lee', '2010-02-03', true);\",\n",
              " \"SELECT SUM(CASE WHEN Owner1Gender = 'Male' THEN 1 ELSE 0 END) + SUM(CASE WHEN Owner2Gender = 'Male' THEN 1 ELSE 0 END) AS MaleProperties, SUM(CASE WHEN Owner1Gender = 'Female' THEN 1 ELSE 0 END) + SUM(CASE WHEN Owner2Gender = 'Female' THEN 1 ELSE 0 END) AS FemaleProperties FROM NYC_Properties;\",\n",
              " \"SELECT country, (internet_users / total_population) * 100 as internet_penetration FROM internet_access WHERE total_population > 20000000 AND country IN ('Nigeria', 'South Africa', 'Egypt', 'Ethiopia', 'Kenya') ORDER BY internet_penetration DESC;\",\n",
              " \"INSERT INTO DiverseEmployees (id, name, department, country) VALUES (7, 'Hamza Ahmed', 'Finance', 'Pakistan'), (8, 'Xiuying Zhang', 'IT', 'China'), (9, 'Amina Diop', 'Marketing', 'Senegal'), (10, 'Santiago Rodriguez', 'HR', 'Brazil');\",\n",
              " \"SELECT COUNT(*) FROM clinical_trials WHERE department = 'Oncology' AND trial_status = 'Successful' AND fda_approval_date IS NULL AND company_location NOT IN ('South Korea') AND fda_approval_date BETWEEN '2017-01-01' AND '2020-12-31';\",\n",
              " \"INSERT INTO carbon_offset_projects (country, name, offset_type, total_offset_quantity, offset_price, start_date, end_date) VALUES ('Brazil', 'Amazon Rainforest Protection', 'Forestation', 1000000, 15.00, '2022-01-01', '2030-12-31');\",\n",
              " \"SELECT SUM(revenue) FROM Revenue WHERE restaurant_id = 11 AND EXTRACT(QUARTER FROM DATE '2019-01-01' + INTERVAL (quarter - 1) * 3 MONTH) = 2 AND EXTRACT(YEAR FROM DATE '2019-01-01' + INTERVAL (quarter - 1) * 3 MONTH) = 2019;\"]"
            ]
          },
          "metadata": {},
          "execution_count": 27
        }
      ]
    }
  ],
  "metadata": {
    "colab": {
      "provenance": [],
      "authorship_tag": "ABX9TyN0sgq4X0n7HYEJLdu4FrCR",
      "include_colab_link": true
    },
    "kernelspec": {
      "display_name": "Python 3",
      "name": "python3"
    },
    "language_info": {
      "name": "python"
    }
  },
  "nbformat": 4,
  "nbformat_minor": 0
}